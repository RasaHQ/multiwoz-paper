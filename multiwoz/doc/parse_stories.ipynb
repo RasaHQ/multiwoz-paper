{
 "cells": [
  {
   "cell_type": "markdown",
   "metadata": {},
   "source": [
    "# Parser for MultiWOZ-2"
   ]
  },
  {
   "cell_type": "code",
   "execution_count": 1,
   "metadata": {},
   "outputs": [],
   "source": [
    "# Use %%black at the beginning of a cell to auto-convert to\n",
    "# \"black\" format. See https://github.com/csurfer/blackcellmagic\n",
    "# %load_ext blackcellmagic"
   ]
  },
  {
   "cell_type": "code",
   "execution_count": 2,
   "metadata": {},
   "outputs": [],
   "source": [
    "import sys\n",
    "sys.path.append(\"./multiwoz\")"
   ]
  },
  {
   "cell_type": "code",
   "execution_count": 3,
   "metadata": {},
   "outputs": [],
   "source": [
    "from multiwoz.parser import MultiWOZParser"
   ]
  },
  {
   "cell_type": "markdown",
   "metadata": {},
   "source": [
    "## Import"
   ]
  },
  {
   "cell_type": "markdown",
   "metadata": {},
   "source": [
    "Download the MultiWOZ-2 data set's zip file and unpack it, if it was not already done."
   ]
  },
  {
   "cell_type": "code",
   "execution_count": 4,
   "metadata": {},
   "outputs": [],
   "source": [
    "parser = MultiWOZParser()  # Use `debug=True` for smaller dataset"
   ]
  },
  {
   "cell_type": "markdown",
   "metadata": {},
   "source": [
    "Number of dialogues:"
   ]
  },
  {
   "cell_type": "code",
   "execution_count": 5,
   "metadata": {},
   "outputs": [
    {
     "data": {
      "text/plain": [
       "10438"
      ]
     },
     "execution_count": 5,
     "metadata": {},
     "output_type": "execute_result"
    }
   ],
   "source": [
    "assert len(parser.data) == len(parser.acts)\n",
    "len(parser.data)"
   ]
  },
  {
   "cell_type": "code",
   "execution_count": 6,
   "metadata": {},
   "outputs": [
    {
     "data": {
      "text/plain": [
       "['SNG01856.json', 'SNG0129.json', 'PMUL1635.json']"
      ]
     },
     "execution_count": 6,
     "metadata": {},
     "output_type": "execute_result"
    }
   ],
   "source": [
    "parser.story_names[:3]"
   ]
  },
  {
   "cell_type": "markdown",
   "metadata": {},
   "source": [
    "The following actions exist in `acts`:"
   ]
  },
  {
   "cell_type": "code",
   "execution_count": 7,
   "metadata": {},
   "outputs": [
    {
     "name": "stdout",
     "output_type": "stream",
     "text": [
      " \n",
      "A\n",
      "Attraction-Inform\n",
      "Attraction-NoOffer\n",
      "Attraction-Recommend\n",
      "Attraction-Request\n",
      "Attraction-Select\n",
      "Booking-Book\n",
      "Booking-Inform\n",
      "Booking-NoBook\n",
      "Booking-Request\n",
      "Hotel-Inform\n",
      "Hotel-NoOffer\n",
      "Hotel-Recommend\n",
      "Hotel-Request\n",
      "Hotel-Select\n",
      "N\n",
      "Restaurant-Inform\n",
      "Restaurant-NoOffer\n",
      "Restaurant-Recommend\n",
      "Restaurant-Request\n",
      "Restaurant-Select\n",
      "Taxi-Inform\n",
      "Taxi-Request\n",
      "Train-Inform\n",
      "Train-NoOffer\n",
      "Train-OfferBook\n",
      "Train-OfferBooked\n",
      "Train-Request\n",
      "Train-Select\n",
      "a\n",
      "general-bye\n",
      "general-greet\n",
      "general-reqmore\n",
      "general-welcome\n",
      "i\n",
      "n\n",
      "o\n",
      "t\n"
     ]
    }
   ],
   "source": [
    "def list_actions():\n",
    "    actions = set()\n",
    "    for name in parser.story_names:\n",
    "        act = parser.acts[name[:-5]]\n",
    "        for a in act.values():\n",
    "            actions.update(set(list(a)))\n",
    "    actions = list(actions)\n",
    "    actions.sort()\n",
    "    for a in actions:\n",
    "        print(a)\n",
    "\n",
    "list_actions()"
   ]
  },
  {
   "cell_type": "markdown",
   "metadata": {},
   "source": [
    "## Parsing examples"
   ]
  },
  {
   "cell_type": "markdown",
   "metadata": {},
   "source": [
    "### Parsing actions"
   ]
  },
  {
   "cell_type": "code",
   "execution_count": 8,
   "metadata": {},
   "outputs": [],
   "source": [
    "test_actions = {\n",
    "    \"Booking-Inform\": [[\"none\", \"none\"]],\n",
    "    \"Hotel-Inform\": [[\"Price\", \"cheap\"], [\"Choice\", \"1\"], [\"Parking\", \"none\"]],\n",
    "}"
   ]
  },
  {
   "cell_type": "code",
   "execution_count": 9,
   "metadata": {},
   "outputs": [
    {
     "name": "stdout",
     "output_type": "stream",
     "text": [
      "   - inform_booking\n",
      "   - inform_choice_parking_price_hotel\n",
      "\n"
     ]
    }
   ],
   "source": [
    "parsed_actions, problems, _ = parser.parse_action(test_actions)\n",
    "print(parsed_actions)"
   ]
  },
  {
   "cell_type": "code",
   "execution_count": 10,
   "metadata": {},
   "outputs": [
    {
     "data": {
      "text/plain": [
       "[]"
      ]
     },
     "execution_count": 10,
     "metadata": {},
     "output_type": "execute_result"
    }
   ],
   "source": [
    "problems"
   ]
  },
  {
   "cell_type": "markdown",
   "metadata": {},
   "source": [
    "### Parsing whole stories"
   ]
  },
  {
   "cell_type": "code",
   "execution_count": 11,
   "metadata": {},
   "outputs": [
    {
     "name": "stdout",
     "output_type": "stream",
     "text": [
      "\u001b[32m## story_SNG0073\u001b[0m\n",
      "U:  I would like a taxi from Saint John's college to Pizza Hut Fen Ditton.\n",
      "\u001b[34m* inform{\"taxi_destination\": \"pizza hut fen ditton\", \"taxi_departure\": \"saint john's college\"}\u001b[0m\n",
      "W:  What time do you want to leave and what time do you want to arrive by?\n",
      "\u001b[31m   - request_arrive_leave_taxi\n",
      "\u001b[0m\n",
      "U:  I want to leave after 17:15.\n",
      "\u001b[34m* inform{\"taxi_leaveAt\": \"17:15\"}\n",
      "   - action_book_taxi\n",
      "   - slot{\"taxi_phone\": \"07218068540\", \"taxi_type\": \"blue honda\"}\u001b[0m\n",
      "W:  \n",
      "Booking completed! your taxi will be blue honda Contact number is 07218068540\n",
      "\u001b[31m   - inform_car_phone_taxi\n",
      "\u001b[0m\n",
      "U:  Thank you for all the help! I appreciate it.\n",
      "\u001b[34m* chitchat\u001b[0m\n",
      "W:  You are welcome.  Is there anything else I can help you with today?\n",
      "\u001b[31m   - reqmore_general\n",
      "\u001b[0m\n",
      "U:  No, I am all set.  Have a nice day.  Bye.\n",
      "\u001b[34m* bye\u001b[0m\n",
      "W:  you too! thank you\n",
      "\u001b[31m   - bye_general\n",
      "\u001b[0m\n"
     ]
    }
   ],
   "source": [
    "story, problems = parser.parse_story(parser.story_names[4], verbose=2)"
   ]
  },
  {
   "cell_type": "code",
   "execution_count": 12,
   "metadata": {},
   "outputs": [
    {
     "name": "stdout",
     "output_type": "stream",
     "text": [
      "\u001b[32m## story_MUL2261\u001b[0m\n",
      "U:  I am looking for information about the City Centre North B and B hotel.  Can you help me with that?\n",
      "\u001b[34m* inform{\"hotel_name\": \"city centre north b and b\"}\u001b[0m\n",
      "W:  Yes! City Centre North B and B is an inexpensively-priced guesthouse in the north of town at 328A Histon Road. Would you like to book a room?\n",
      "\u001b[31m   - inform_addr_area_name_price_type_hotel\n",
      "   - inform_booking\n",
      "\u001b[0m\n",
      "U:  Yes can I book it for 6 people starting on Saturday for 4 nights please?\n",
      "\u001b[34m* inform{\"hotel_stay\": \"4\", \"hotel_day\": \"saturday\", \"hotel_people\": \"6\"}\u001b[0m\n",
      "W:  They weren't able to accommodate those parameters. Would you like to try a shorter stay?\n",
      "\u001b[31m   - nobook_booking\n",
      "   - request_stay_booking\n",
      "\u001b[0m\n",
      "U:  Sure.  Let's try 2 nights.  Thanks. I'll need a reference number, too, please.\n",
      "\u001b[34m* inform{\"hotel_stay\": \"2\", \"hotel_pricerange\": \"cheap\"}\n",
      "   - action_book_hotel\n",
      "   - slot{\"hotel_name\": \"city centre north b and b\", \"hotel_reference\": \"0FAFY5PP\"}\u001b[0m\n",
      "W:  The booking for City Centre North B&B has been made, your reference number is 0FAFY5PP.\n",
      "\u001b[31m   - book_ref_booking\n",
      "\u001b[0m\n",
      "U:  Great! I also need a train from bishops stortford to cambridge, please.\n",
      "\u001b[34m* inform{\"train_destination\": \"cambridge\", \"train_departure\": \"bishops stortford\"}\u001b[0m\n",
      "W:  I can find one for you. Can you tell me what day you would like to travel, please? \n",
      "\u001b[31m   - request_day_train\n",
      "\u001b[0m\n",
      "U:  The train should arrive by 14:45 and should be on the same day as the hotel booking.\n",
      "\u001b[34m* inform{\"train_day\": \"saturday\", \"train_arriveBy\": \"14:45\"}\u001b[0m\n",
      "W:  Great, I recommend train TR5108.  It departs at 13:29 and will get you there by 14:07.  Would you like me to book it?\n",
      "\u001b[31m   - inform_arrive_id_leave_train\n",
      "   - offerbook_train\n",
      "\u001b[0m\n",
      "U:  Please book that train for me now.\n",
      "\u001b[34m* chitchat\u001b[0m\n",
      "W:  Certainly! How many tickets would you like?\n",
      "\u001b[31m   - request_people_train\n",
      "\u001b[0m\n",
      "U:  I need 6 tickets for the same day.\n",
      "\u001b[34m* inform{\"train_people\": \"6\"}\n",
      "   - action_book_train\n",
      "   - slot{\"train_trainID\": \"TR5108\", \"train_reference\": \"GSTIN0L6\"}\u001b[0m\n",
      "W:  Booking was successful, the total fee is 48.48 GBP payable at the station .\n",
      "Reference number is : GSTIN0L6.\n",
      "\u001b[31m   - offerbooked_ref_ticket_train\n",
      "\u001b[0m\n",
      "U:  That's all I need today, thank you. \n",
      "\u001b[34m* bye\u001b[0m\n",
      "W:  You're welcome! Lovely day to you.\n",
      "\u001b[31m   - bye_general\n",
      "   - welcome_general\n",
      "\u001b[0m\n"
     ]
    }
   ],
   "source": [
    "story, problems = parser.parse_story(parser.story_names[13], verbose=2)"
   ]
  },
  {
   "cell_type": "code",
   "execution_count": 13,
   "metadata": {},
   "outputs": [
    {
     "data": {
      "text/plain": [
       "[]"
      ]
     },
     "execution_count": 13,
     "metadata": {},
     "output_type": "execute_result"
    }
   ],
   "source": [
    "problems"
   ]
  },
  {
   "cell_type": "markdown",
   "metadata": {},
   "source": [
    "There are no recognized problems. But when the user says _\"Sure.  Let's try 2 nights.  Thanks. I'll need a reference number, too, please.\"_, this is recognized as `* inform{\"hotel_stay\": \"2\", \"hotel_pricerange\": \"cheap\"}`. \n",
    "Let's check why that is, by printing out the metadata structure before and after this sentence."
   ]
  },
  {
   "cell_type": "code",
   "execution_count": 14,
   "metadata": {},
   "outputs": [],
   "source": [
    "def print_structure(ds, name=\"root\", level=0):\n",
    "    indent = \" \" * level\n",
    "    if type(ds) is str:\n",
    "        if ds.strip() != \"\" and ds.strip() != \"not mentioned\":\n",
    "            print(f\"{indent}{name} > {ds.strip()}\")\n",
    "    else:\n",
    "        print(f\"{indent}{name}\")\n",
    "        if type(ds) is dict:\n",
    "            for k in ds.keys():\n",
    "                print_structure(ds[k], k, level+2)\n",
    "        elif type(ds) is list:\n",
    "            for k in range(len(ds)):\n",
    "                print_structure(ds[k], str(k), level+2)\n",
    "        else:\n",
    "            raise ValueError(\"Bad type\")"
   ]
  },
  {
   "cell_type": "code",
   "execution_count": 15,
   "metadata": {},
   "outputs": [
    {
     "name": "stdout",
     "output_type": "stream",
     "text": [
      "root\n",
      "  taxi\n",
      "    book\n",
      "      booked\n",
      "    semi\n",
      "  police\n",
      "    book\n",
      "      booked\n",
      "    semi\n",
      "  restaurant\n",
      "    book\n",
      "      booked\n",
      "    semi\n",
      "  hospital\n",
      "    book\n",
      "      booked\n",
      "    semi\n",
      "  hotel\n",
      "    book\n",
      "      booked\n",
      "      stay > 4\n",
      "      day > saturday\n",
      "      people > 6\n",
      "    semi\n",
      "      name > city centre north b and b\n",
      "  attraction\n",
      "    book\n",
      "      booked\n",
      "    semi\n",
      "  train\n",
      "    book\n",
      "      booked\n",
      "    semi\n",
      "\n",
      "Sure.  Let's try 2 nights.  Thanks. I'll need a reference number, too, please.\n",
      "\n",
      "root\n",
      "  taxi\n",
      "    book\n",
      "      booked\n",
      "    semi\n",
      "  police\n",
      "    book\n",
      "      booked\n",
      "    semi\n",
      "  restaurant\n",
      "    book\n",
      "      booked\n",
      "    semi\n",
      "  hospital\n",
      "    book\n",
      "      booked\n",
      "    semi\n",
      "  hotel\n",
      "    book\n",
      "      booked\n",
      "        0\n",
      "          name > city centre north b and b\n",
      "          reference > 0FAFY5PP\n",
      "      stay > 2\n",
      "      day > saturday\n",
      "      people > 6\n",
      "    semi\n",
      "      name > city centre north b and b\n",
      "      pricerange > cheap\n",
      "  attraction\n",
      "    book\n",
      "      booked\n",
      "    semi\n",
      "  train\n",
      "    book\n",
      "      booked\n",
      "    semi\n"
     ]
    }
   ],
   "source": [
    "print_structure(parser.data[parser.story_names[13]][\"log\"][3][\"metadata\"])\n",
    "print()\n",
    "print(parser.data[parser.story_names[13]][\"log\"][4][\"text\"])\n",
    "print()\n",
    "print_structure(parser.data[parser.story_names[13]][\"log\"][5][\"metadata\"])"
   ]
  },
  {
   "cell_type": "markdown",
   "metadata": {},
   "source": [
    "So this is labeling noise. \n",
    "The information `pricerange > cheap` was added at this point, even though it is not anything the user says. \n",
    "The Wizzard has told this information to the user, however, at the beginning of the conversation."
   ]
  },
  {
   "cell_type": "markdown",
   "metadata": {},
   "source": [
    "Here are a few more parsed stories:"
   ]
  },
  {
   "cell_type": "markdown",
   "metadata": {},
   "source": [
    "This one makes it clear that there realy is not much information available about what the user says:"
   ]
  },
  {
   "cell_type": "code",
   "execution_count": 16,
   "metadata": {},
   "outputs": [
    {
     "name": "stdout",
     "output_type": "stream",
     "text": [
      "\u001b[32m## story_SNG0385\u001b[0m\n",
      "U:  I'd like to find a train that leaves Monday and arrives by 19:00.\n",
      "\u001b[34m* inform{\"train_day\": \"monday\", \"train_arriveBy\": \"19:00\"}\u001b[0m\n",
      "W:  Very well. Where are you traveling from, and to where?\n",
      "\u001b[31m   - request_depart_dest_train\n",
      "\u001b[0m\n",
      "U:  I am departing from birmingham new street, going to cambridge.\n",
      "\u001b[34m* inform{\"train_destination\": \"cambridge\", \"train_departure\": \"birmingham new street\"}\u001b[0m\n",
      "W:  I have a train that departs at 15:40 and arrives in Cambridge at 18:23. Will that do?\n",
      "\u001b[31m   - inform_arrive_dest_leave_train\n",
      "\u001b[0m\n",
      "U:  That would work just fine. Could you tell me the price and travel time for that train? \n",
      "\u001b[34m* chitchat\u001b[0m\n",
      "W:  The TR5385 has a travel time of 163 minutes. Would you like me to book you some tickets?\n",
      "\u001b[31m   - inform_id_time_train\n",
      "   - offerbook_train\n",
      "\u001b[0m\n",
      "U:  No, I don't want to book today.  Could you just give me the price for that train?  I think that is all I need today.\n",
      "\u001b[34m* chitchat\u001b[0m\n",
      "W:  Sure.  The price of those tickets are 75.10 pounds each.\n",
      "\u001b[31m   - inform_ticket_train\n",
      "\u001b[0m\n",
      "U:  Great! That's all I need. Thank you for your help.\n",
      "\u001b[34m* bye\u001b[0m\n",
      "W:  Thank you for using Cambridge TownInfo Centre. Have a wonderful day!\n",
      "\u001b[31m   - bye_general\n",
      "\u001b[0m\n"
     ]
    }
   ],
   "source": [
    "parser.parse_story(parser.story_names[101], verbose=2);"
   ]
  },
  {
   "cell_type": "markdown",
   "metadata": {},
   "source": [
    "This might be especially problematic if the user is confused and we have to label this as \"chitchat\".\n",
    "Also, at the end of the following dialog, the Wizzard seems to give the wrong phone number."
   ]
  },
  {
   "cell_type": "code",
   "execution_count": 17,
   "metadata": {},
   "outputs": [
    {
     "name": "stdout",
     "output_type": "stream",
     "text": [
      "\u001b[32m## story_PMUL1296\u001b[0m\n",
      "U:  Hi, can you help me find a train on Monday, please?\n",
      "\u001b[34m* inform{\"train_day\": \"monday\"}\u001b[0m\n",
      "W:  Sure, where will you be departing from?\n",
      "\u001b[31m   - request_depart_train\n",
      "\u001b[0m\n",
      "U:  I'm departing from leicester.\n",
      "\u001b[34m* inform{\"train_departure\": \"leicester\"}\u001b[0m\n",
      "W:  There are many trains available on that day. At what time will you be traveling?\n",
      "\u001b[31m   - inform_choice_train\n",
      "   - request_leave_train\n",
      "\u001b[0m\n",
      "U:  I will be leaving by 5:15.\n",
      "\u001b[34m* inform{\"train_leaveAt\": \"05:15\"}\u001b[0m\n",
      "W:  what is your destination?\n",
      "\u001b[31m   - request_dest_train\n",
      "\u001b[0m\n",
      "U:  It should go to leicester\n",
      "\u001b[34m* chitchat\u001b[0m\n",
      "W:  Did you mean departing from Leicester and going to Cambridge?  We do not have trains from Leicester to Leicester.  \n",
      "\u001b[31m   - nooffer_depart_dest_train\n",
      "   - request_depart_dest_train\n",
      "\u001b[0m\n",
      "U:  sorry, im going from cambridge to leicester\n",
      "\u001b[34m* inform{\"train_destination\": \"leicester\", \"train_departure\": \"cambridge\"}\u001b[0m\n",
      "W:  TR8631 will leave at 5:21 and arrive by 7:06. Would you like to make a reservation?\n",
      "\u001b[31m   - inform_arrive_id_leave_train\n",
      "   - offerbook_train\n",
      "\u001b[0m\n",
      "U:  Yes, please make a booking for 3 people.\n",
      "\u001b[34m* inform{\"train_people\": \"3\"}\n",
      "   - action_book_train\n",
      "   - slot{\"train_trainID\": \"TR8631\", \"train_reference\": \"60SBSNJP\"}\u001b[0m\n",
      "W:  Booking was successful, the total fee is 113.4 GBP payable at the station .Reference number is : 60SBSNJP.\n",
      "\u001b[31m   - offerbooked_ref_ticket_train\n",
      "\u001b[0m\n",
      "U:  Thank you for your time and help, sorry for the confusion.  Have a great day !\n",
      "\u001b[34m* chitchat\u001b[0m\n",
      "W:  have a great day too.\n",
      "\u001b[31m   - greet_general\n",
      "\u001b[0m\n",
      "U:  Have a nice day.\n",
      "\u001b[34m* chitchat\u001b[0m\n",
      "W:  Thank you. You as well.\n",
      "\u001b[31m   - greet_general\n",
      "\u001b[0m\n",
      "U:  Can you suggest places to go in town centre? I'm interested in a college. Let me know the entrance fee and the phone number please.\n",
      "\u001b[34m* inform{\"attraction_type\": \"college\", \"attraction_area\": \"centre\"}\u001b[0m\n",
      "W:  I have the downing college located at regent street with free entrance fee. \n",
      "\u001b[31m   - inform_addr_fee_name_attraction\n",
      "\u001b[0m\n",
      "U:  Please get me their phone number\n",
      "\u001b[34m* chitchat\u001b[0m\n",
      "W:  I have several available. How does Christ's college  on saint andrew's street with free entrance sound? Their phone number is 01223334900.\n",
      "\u001b[31m   - inform_addr_choice_fee_name_phone_attraction\n",
      "\u001b[0m\n",
      "U:  That is all.\n",
      "\u001b[34m* bye\u001b[0m\n",
      "W:  Great. Glad I could be of help.\n",
      "\u001b[31m   - bye_general\n",
      "\u001b[0m\n"
     ]
    }
   ],
   "source": [
    "parser.parse_story(parser.story_names[201], verbose=2);"
   ]
  },
  {
   "cell_type": "markdown",
   "metadata": {},
   "source": [
    "This wizzard is very eager to sell train tickets..."
   ]
  },
  {
   "cell_type": "code",
   "execution_count": 18,
   "metadata": {},
   "outputs": [
    {
     "name": "stdout",
     "output_type": "stream",
     "text": [
      "\u001b[32m## story_PMUL1021\u001b[0m\n",
      "U:  I need a train from  london liverpool street to cambridge.\n",
      "\u001b[34m* inform{\"train_destination\": \"cambridge\", \"train_departure\": \"london liverpool street\"}\u001b[0m\n",
      "W:  There are many trains. What day and what time?\n",
      "\u001b[31m   - request_day_leave_train\n",
      "\u001b[0m\n",
      "U:  I would like to leave on Friday after 21:45 please. \n",
      "\u001b[34m* inform{\"train_leaveAt\": \"21:45\", \"train_day\": \"friday\"}\u001b[0m\n",
      "W:  Train TR6769 fits what you're looking for. Would you like me to book you passage?\n",
      "\u001b[31m   - inform_id_train\n",
      "   - offerbook_train\n",
      "\u001b[0m\n",
      "U:  No, I just need to know the travel time of the train at the moment.\n",
      "\u001b[34m* bye\u001b[0m\n",
      "W:  I will book it for you,is there anything else I can do for you ?\n",
      "\u001b[31m   - offerbook_train\n",
      "   - reqmore_general\n",
      "\u001b[0m\n"
     ]
    }
   ],
   "source": [
    "parser.parse_story(parser.story_names[400], verbose=2);"
   ]
  },
  {
   "cell_type": "markdown",
   "metadata": {},
   "source": [
    "Here is a conversation were everything went well:"
   ]
  },
  {
   "cell_type": "code",
   "execution_count": 19,
   "metadata": {},
   "outputs": [
    {
     "name": "stdout",
     "output_type": "stream",
     "text": [
      "\u001b[32m## story_SNG01775\u001b[0m\n",
      "U:  help me get a taxi to the cambridge museum of technology please\n",
      "\u001b[34m* inform{\"taxi_destination\": \"cambridge museum of technology\"}\u001b[0m\n",
      "W:  Sure. What is your departure site?\n",
      "\u001b[31m   - request_depart_taxi\n",
      "\u001b[0m\n",
      "U:  I'll be departing from rice boat\n",
      "\u001b[34m* inform{\"taxi_departure\": \"rice boat\"}\u001b[0m\n",
      "W:  Okay. Can you give me a time that you'd prefer to leave after or arrive by?\n",
      "\u001b[31m   - request_arrive_leave_taxi\n",
      "\u001b[0m\n",
      "U:  Have the taxi leave after 13:45 please\n",
      "\u001b[34m* inform{\"taxi_leaveAt\": \"300\"}\n",
      "   - action_book_taxi\n",
      "   - slot{\"taxi_phone\": \"07774899596\", \"taxi_type\": \"white audi\"}\u001b[0m\n",
      "W:  Booking completed!\n",
      "Booked car type\t:\twhite audi\n",
      "Contact number\t:\t07774899596\n",
      "\u001b[31m   - inform_car_phone_taxi\n",
      "\u001b[0m\n"
     ]
    }
   ],
   "source": [
    "parser.parse_story(parser.story_names[2597], verbose=2);"
   ]
  },
  {
   "cell_type": "markdown",
   "metadata": {},
   "source": [
    "Now, we **parse all the 'good' stories into a file** for training and testing (good = no problems found).\n",
    "We also create separate files that only contain those stories which appear in the validation and test lists, respectively.\n",
    "At the same time, we also check for how many dialogues there are no problems."
   ]
  },
  {
   "cell_type": "code",
   "execution_count": 20,
   "metadata": {},
   "outputs": [
    {
     "name": "stdout",
     "output_type": "stream",
     "text": [
      "9074/10438 = 86.93%\n"
     ]
    }
   ],
   "source": [
    "all_problems = []\n",
    "count = 0\n",
    "count_good = 0\n",
    "\n",
    "# Write all stories\n",
    "with open(\"stories_all.md\", \"w\") as story_file:\n",
    "    with open(\"stories_vallist.md\", \"w\") as val_file:\n",
    "        with open(\"stories_testlist.md\", \"w\") as test_file:\n",
    "            for name in parser.story_names:\n",
    "                story, problems = parser.parse_story(name)\n",
    "                count += 1\n",
    "                if len(problems) == 0:\n",
    "                    count_good += 1\n",
    "                    story_file.write(story)\n",
    "                else:\n",
    "                    all_problems += problems\n",
    "\n",
    "                if name in parser.validation_list:\n",
    "                    val_file.write(story)\n",
    "\n",
    "                if name in parser.test_list:\n",
    "                    test_file.write(story)\n",
    "\n",
    "# Inform about number of bad stories\n",
    "assert count == len(parser.story_names)\n",
    "print(f\"{count_good}/{count} = {100.0 * count_good / count:.2f}%\")"
   ]
  },
  {
   "cell_type": "markdown",
   "metadata": {},
   "source": [
    "Write the domain file for Rasa Core."
   ]
  },
  {
   "cell_type": "code",
   "execution_count": 21,
   "metadata": {},
   "outputs": [],
   "source": [
    "import domain_info"
   ]
  },
  {
   "cell_type": "code",
   "execution_count": 22,
   "metadata": {},
   "outputs": [],
   "source": [
    "with open(\"domain.yml\", \"w\") as domain_file:\n",
    "\n",
    "    # Intents\n",
    "    domain_file.write(\"intents:\\n\")\n",
    "    domain_file.write(\"  - inform\\n\")\n",
    "    domain_file.write(\"  - chitchat\\n\")\n",
    "    domain_file.write(\"  - bye\\n\")\n",
    "    domain_file.write(\"\\n\")\n",
    "    \n",
    "    # Entities\n",
    "    domain_file.write(\"entities:\\n\")\n",
    "    for slot in domain_info.slots:\n",
    "        domain_file.write(f\"  - {slot}\\n\")\n",
    "    domain_file.write(\"\\n\")    \n",
    "\n",
    "    # Actions\n",
    "    domain_file.write(\"actions:\\n\")\n",
    "    for a in domain_info.actions:\n",
    "        domain_file.write(f\"  - {a}\\n\")\n",
    "    domain_file.write(\"\\n\")\n",
    "\n",
    "    # Templates\n",
    "    domain_file.write(\"templates:\\n\")\n",
    "    for a in domain_info.actions:\n",
    "        domain_file.write(f\"  {a}:\\n\")\n",
    "        domain_file.write(f'  - text: \"{a}\"\\n')\n",
    "    domain_file.write(\"\\n\")\n",
    "\n",
    "    # Slots\n",
    "    domain_file.write(\"slots:\\n\")\n",
    "    for slot in domain_info.slots:\n",
    "        domain_file.write(f\"  {slot}:\\n\")\n",
    "        domain_file.write(f\"    type: text\\n\")"
   ]
  },
  {
   "cell_type": "markdown",
   "metadata": {},
   "source": [
    "The number of problems encountered is:"
   ]
  },
  {
   "cell_type": "code",
   "execution_count": 23,
   "metadata": {},
   "outputs": [
    {
     "data": {
      "text/plain": [
       "1924"
      ]
     },
     "execution_count": 23,
     "metadata": {},
     "output_type": "execute_result"
    }
   ],
   "source": [
    "len(all_problems)"
   ]
  },
  {
   "cell_type": "markdown",
   "metadata": {},
   "source": [
    "Let's see what the problems are."
   ]
  },
  {
   "cell_type": "code",
   "execution_count": 24,
   "metadata": {},
   "outputs": [],
   "source": [
    "def tally(data):\n",
    "    \"\"\"Tally identical elements in the list `data`\"\"\"\n",
    "    counts = {}\n",
    "    for datum in data:\n",
    "        if datum in counts:\n",
    "            counts[datum] += 1\n",
    "        else:\n",
    "            counts[datum] = 1\n",
    "    return counts"
   ]
  },
  {
   "cell_type": "code",
   "execution_count": 25,
   "metadata": {},
   "outputs": [
    {
     "data": {
      "text/plain": [
       "{'no_annotation': 1904, 'no_action': 16, 'long_baseline': 4}"
      ]
     },
     "execution_count": 25,
     "metadata": {},
     "output_type": "execute_result"
    }
   ],
   "source": [
    "tally([p[\"type\"] for p in all_problems])"
   ]
  },
  {
   "cell_type": "markdown",
   "metadata": {},
   "source": [
    "So almost all problems occur because some data are not annotated, and a few data sets miss at least one action annotation for the wizzard.\n",
    "In addition, there are 4 cases where information was deleted from the slots."
   ]
  },
  {
   "cell_type": "code",
   "execution_count": 26,
   "metadata": {
    "scrolled": true
   },
   "outputs": [
    {
     "data": {
      "text/plain": [
       "[{'type': 'long_baseline',\n",
       "  'branch': '_taxi_book_booked',\n",
       "  'baseline': [{'phone': '07715015033', 'type': 'white tesla'}],\n",
       "  'dataset': []},\n",
       " {'type': 'long_baseline',\n",
       "  'branch': '_taxi_book_booked',\n",
       "  'baseline': [{'phone': '07383383242', 'type': 'yellow bmw'}],\n",
       "  'dataset': []},\n",
       " {'type': 'long_baseline',\n",
       "  'branch': '_restaurant_book_booked',\n",
       "  'baseline': [{'name': 'da vinci pizzeria', 'reference': 'QLKCDA7V'}],\n",
       "  'dataset': []},\n",
       " {'type': 'long_baseline',\n",
       "  'branch': '_taxi_book_booked',\n",
       "  'baseline': [{'phone': '07410117478', 'type': 'black volvo'}],\n",
       "  'dataset': []}]"
      ]
     },
     "execution_count": 26,
     "metadata": {},
     "output_type": "execute_result"
    }
   ],
   "source": [
    "[p for p in all_problems if p[\"type\"] == \"long_baseline\"]"
   ]
  },
  {
   "cell_type": "markdown",
   "metadata": {},
   "source": [
    "Let's find the data sets in which data was deleted."
   ]
  },
  {
   "cell_type": "code",
   "execution_count": 27,
   "metadata": {},
   "outputs": [
    {
     "name": "stdout",
     "output_type": "stream",
     "text": [
      "PMUL2430.json\n",
      "PMUL0382.json\n",
      "PMUL0181.json\n"
     ]
    }
   ],
   "source": [
    "for name in parser.story_names:\n",
    "    story, problems = parser.parse_story(name)\n",
    "    if len(problems) > 0:\n",
    "        for problem in problems:\n",
    "            if problem[\"type\"] == \"long_baseline\":\n",
    "                print(name)\n",
    "                break"
   ]
  },
  {
   "cell_type": "markdown",
   "metadata": {},
   "source": [
    "All the examples in which data were deleted (long-baseline problem) also contain a missing annotation. \n",
    "Therefore, the parser is complete."
   ]
  },
  {
   "cell_type": "code",
   "execution_count": 28,
   "metadata": {},
   "outputs": [
    {
     "data": {
      "text/plain": [
       "[{'type': 'long_baseline',\n",
       "  'branch': '_taxi_book_booked',\n",
       "  'baseline': [{'phone': '07715015033', 'type': 'white tesla'}],\n",
       "  'dataset': []},\n",
       " {'type': 'no_annotation'}]"
      ]
     },
     "execution_count": 28,
     "metadata": {},
     "output_type": "execute_result"
    }
   ],
   "source": [
    "parser.parse_story(\"PMUL2430.json\")[1]"
   ]
  },
  {
   "cell_type": "code",
   "execution_count": 29,
   "metadata": {},
   "outputs": [
    {
     "data": {
      "text/plain": [
       "[{'type': 'no_annotation'},\n",
       " {'type': 'long_baseline',\n",
       "  'branch': '_taxi_book_booked',\n",
       "  'baseline': [{'phone': '07383383242', 'type': 'yellow bmw'}],\n",
       "  'dataset': []},\n",
       " {'type': 'long_baseline',\n",
       "  'branch': '_restaurant_book_booked',\n",
       "  'baseline': [{'name': 'da vinci pizzeria', 'reference': 'QLKCDA7V'}],\n",
       "  'dataset': []}]"
      ]
     },
     "execution_count": 29,
     "metadata": {},
     "output_type": "execute_result"
    }
   ],
   "source": [
    "parser.parse_story(\"PMUL0382.json\")[1]"
   ]
  },
  {
   "cell_type": "code",
   "execution_count": 30,
   "metadata": {},
   "outputs": [
    {
     "data": {
      "text/plain": [
       "[{'type': 'long_baseline',\n",
       "  'branch': '_taxi_book_booked',\n",
       "  'baseline': [{'phone': '07410117478', 'type': 'black volvo'}],\n",
       "  'dataset': []},\n",
       " {'type': 'no_annotation'}]"
      ]
     },
     "execution_count": 30,
     "metadata": {},
     "output_type": "execute_result"
    }
   ],
   "source": [
    "parser.parse_story(\"PMUL0181.json\")[1]"
   ]
  },
  {
   "cell_type": "code",
   "execution_count": null,
   "metadata": {},
   "outputs": [],
   "source": []
  }
 ],
 "metadata": {
  "kernelspec": {
   "display_name": "Python 3",
   "language": "python",
   "name": "python3"
  },
  "language_info": {
   "codemirror_mode": {
    "name": "ipython",
    "version": 3
   },
   "file_extension": ".py",
   "mimetype": "text/x-python",
   "name": "python",
   "nbconvert_exporter": "python",
   "pygments_lexer": "ipython3",
   "version": "3.7.3"
  }
 },
 "nbformat": 4,
 "nbformat_minor": 2
}
