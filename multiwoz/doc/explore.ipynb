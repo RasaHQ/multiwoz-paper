{
 "cells": [
  {
   "cell_type": "markdown",
   "metadata": {},
   "source": [
    "# Exploration of the MultiWOZ-2 dataset"
   ]
  },
  {
   "cell_type": "markdown",
   "metadata": {},
   "source": [
    "In this notebook, we assess whether or not it is possible and feasible to convert the MultiWOZ-2 dataset to the Rasa Story format."
   ]
  },
  {
   "cell_type": "markdown",
   "metadata": {},
   "source": [
    "## Background information"
   ]
  },
  {
   "cell_type": "markdown",
   "metadata": {},
   "source": [
    "Basic information from the corresponding paper: https://arxiv.org/abs/1810.00278\n",
    "\n",
    "- 10x bigger than predicessor data sets\n",
    "- Human-Human dialogues\n",
    "- 3406 single-domain dialogues\n",
    "- 7032 multi-domain dialogues\n",
    "- 3406 + 7032 = 10438 dialogues in total\n",
    "- 70% have more than 10 turns\n",
    "- average number of turns: 8.93 (single-domain) and 15.39 (multi-domain)\n",
    "- authors generate some benchmark tests\n",
    "\n",
    "Data accessible here: [http://dialogue.mi.eng.cam.ac.uk/index.php/corpus/](http://dialogue.mi.eng.cam.ac.uk/index.php/corpus/)"
   ]
  },
  {
   "cell_type": "markdown",
   "metadata": {},
   "source": [
    "## Import"
   ]
  },
  {
   "cell_type": "markdown",
   "metadata": {},
   "source": [
    "Download the MultiWOZ-2 data set zip file."
   ]
  },
  {
   "cell_type": "code",
   "execution_count": 1,
   "metadata": {},
   "outputs": [],
   "source": [
    "import os\n",
    "import urllib.request\n",
    "import zipfile"
   ]
  },
  {
   "cell_type": "code",
   "execution_count": 2,
   "metadata": {},
   "outputs": [
    {
     "name": "stdout",
     "output_type": "stream",
     "text": [
      "Downloading https://www.repository.cam.ac.uk/bitstream/handle/1810/280608/MULTIWOZ2.zip?sequence=3&isAllowed=y to d:\\rasa\\research\\report_multiWOZ\\data\\MultiWOZ-2.zip...\n",
      "Done.\n"
     ]
    }
   ],
   "source": [
    "url = \"https://www.repository.cam.ac.uk/bitstream/handle/1810/280608/MULTIWOZ2.zip?sequence=3&isAllowed=y\"\n",
    "fname = os.path.abspath(os.path.join(\".\", \"data\", \"MultiWOZ-2.zip\"))\n",
    "\n",
    "if not os.path.isdir(os.path.join(\".\", \"data\")):\n",
    "    os.makedirs(os.path.join(\".\", \"data\"))\n",
    "\n",
    "print(f\"Downloading {url} to {fname}...\")\n",
    "urllib.request.urlretrieve(url, fname);\n",
    "print(\"Done.\")"
   ]
  },
  {
   "cell_type": "markdown",
   "metadata": {},
   "source": [
    "Unpack the data."
   ]
  },
  {
   "cell_type": "code",
   "execution_count": 3,
   "metadata": {},
   "outputs": [],
   "source": [
    "with zipfile.ZipFile(fname, \"r\") as zip_ref:\n",
    "    zip_ref.extractall(os.path.abspath(os.path.join(\".\", \"data\", \"MultiWOZ-2\")))"
   ]
  },
  {
   "cell_type": "code",
   "execution_count": 4,
   "metadata": {},
   "outputs": [],
   "source": [
    "data_file_name = os.path.abspath(os.path.join(\".\", \"data\", \"MultiWOZ-2\", \"MULTIWOZ2 2\", \"data.json\"))"
   ]
  },
  {
   "cell_type": "markdown",
   "metadata": {},
   "source": [
    "Import the json data."
   ]
  },
  {
   "cell_type": "code",
   "execution_count": 5,
   "metadata": {},
   "outputs": [],
   "source": [
    "import json"
   ]
  },
  {
   "cell_type": "code",
   "execution_count": 6,
   "metadata": {},
   "outputs": [],
   "source": [
    "with open(data_file_name, \"r\") as read_file:\n",
    "    data = json.load(read_file)"
   ]
  },
  {
   "cell_type": "markdown",
   "metadata": {},
   "source": [
    "Number of dialogues:"
   ]
  },
  {
   "cell_type": "code",
   "execution_count": 7,
   "metadata": {},
   "outputs": [
    {
     "data": {
      "text/plain": [
       "10438"
      ]
     },
     "execution_count": 7,
     "metadata": {},
     "output_type": "execute_result"
    }
   ],
   "source": [
    "len(data)"
   ]
  },
  {
   "cell_type": "markdown",
   "metadata": {},
   "source": [
    "Files with multi-domain dialogues have \"MUL\" in their names. Single domain dialogues have either \"SNG\" or \"WOZ\" in their names.\n",
    "(This is slightly different from the description on the website, where \"WOZ\" is not mentioned.)\n",
    "These tags, however, are not necessarily the beginnings of the names:"
   ]
  },
  {
   "cell_type": "code",
   "execution_count": 8,
   "metadata": {},
   "outputs": [],
   "source": [
    "names = list(data.keys())"
   ]
  },
  {
   "cell_type": "code",
   "execution_count": 9,
   "metadata": {},
   "outputs": [
    {
     "data": {
      "text/plain": [
       "{'MUL0', 'MUL1', 'MUL2', 'PMUL', 'SNG0', 'SNG1', 'SSNG', 'WOZ2'}"
      ]
     },
     "execution_count": 9,
     "metadata": {},
     "output_type": "execute_result"
    }
   ],
   "source": [
    "set([name[:4] for name in names])"
   ]
  },
  {
   "cell_type": "code",
   "execution_count": 10,
   "metadata": {},
   "outputs": [],
   "source": [
    "def dialog_class_from_name(name):\n",
    "    if \"MUL\" in name:\n",
    "        return \"MUL\"\n",
    "    elif \"SNG\" in name:\n",
    "        return \"SNG\"\n",
    "    elif \"WOZ\" in name:\n",
    "        return \"WOZ\"\n",
    "    else:\n",
    "        return \"Neither\""
   ]
  },
  {
   "cell_type": "code",
   "execution_count": 11,
   "metadata": {},
   "outputs": [
    {
     "data": {
      "text/plain": [
       "{'MUL', 'SNG', 'WOZ'}"
      ]
     },
     "execution_count": 11,
     "metadata": {},
     "output_type": "execute_result"
    }
   ],
   "source": [
    "set([dialog_class_from_name(name) for name in names])"
   ]
  },
  {
   "cell_type": "markdown",
   "metadata": {},
   "source": [
    "### A SNG dialog example"
   ]
  },
  {
   "cell_type": "code",
   "execution_count": 12,
   "metadata": {},
   "outputs": [
    {
     "data": {
      "text/plain": [
       "'SNG01856.json'"
      ]
     },
     "execution_count": 12,
     "metadata": {},
     "output_type": "execute_result"
    }
   ],
   "source": [
    "example_sng = names[0]\n",
    "example_sng"
   ]
  },
  {
   "cell_type": "markdown",
   "metadata": {},
   "source": [
    "There are two entries in this example:"
   ]
  },
  {
   "cell_type": "code",
   "execution_count": 13,
   "metadata": {},
   "outputs": [
    {
     "data": {
      "text/plain": [
       "['goal', 'log']"
      ]
     },
     "execution_count": 13,
     "metadata": {},
     "output_type": "execute_result"
    }
   ],
   "source": [
    "list(data[example_sng])"
   ]
  },
  {
   "cell_type": "markdown",
   "metadata": {},
   "source": [
    "### `log` data"
   ]
  },
  {
   "cell_type": "markdown",
   "metadata": {},
   "source": [
    "The 'log' data contains the conversation. \n",
    "We can print out the conversation like this:"
   ]
  },
  {
   "cell_type": "code",
   "execution_count": 14,
   "metadata": {},
   "outputs": [
    {
     "name": "stdout",
     "output_type": "stream",
     "text": [
      "U:  am looking for a place to to stay that has cheap price range it should be in a type of hotel\n",
      "W:  Okay, do you have a specific area you want to stay in?\n",
      "U:  no, i just need to make sure it's cheap. oh, and i need parking\n",
      "W:  I found 1 cheap hotel for you that includes parking. Do you like me to book it?\n",
      "U:  Yes, please. 6 people 3 nights starting on tuesday.\n",
      "W:  I am sorry but I wasn't able to book that for you for Tuesday. Is there another day you would like to stay or perhaps a shorter stay?\n",
      "U:  how about only 2 nights.\n",
      "W:  Booking was successful.\n",
      "Reference number is : 7GAWK763. Anything else I can do for you?\n",
      "U:  No, that will be all. Good bye.\n",
      "W:  Thank you for using our services.\n"
     ]
    }
   ],
   "source": [
    "log = data[example_sng][\"log\"]\n",
    "for step in log:\n",
    "    if len(step[\"metadata\"]) == 0:   # It looks like user-texts don't have metadata\n",
    "        print(\"U:  \" + step[\"text\"])  # User\n",
    "    else:\n",
    "        print(\"W:  \" + step[\"text\"])  # Wizzard"
   ]
  },
  {
   "cell_type": "markdown",
   "metadata": {},
   "source": [
    "Only for the Wizzard's messages, meta data about the user intent is available:"
   ]
  },
  {
   "cell_type": "code",
   "execution_count": 15,
   "metadata": {},
   "outputs": [
    {
     "name": "stdout",
     "output_type": "stream",
     "text": [
      "no, i just need to make sure it's cheap. oh, and i need parking\n",
      "{'taxi': {'book': {'booked': []}, 'semi': {'leaveAt': '', 'destination': '', 'departure': '', 'arriveBy': ''}}, 'police': {'book': {'booked': []}, 'semi': {}}, 'restaurant': {'book': {'booked': [], 'time': '', 'day': '', 'people': ''}, 'semi': {'food': '', 'pricerange': '', 'name': '', 'area': ''}}, 'hospital': {'book': {'booked': []}, 'semi': {'department': ''}}, 'hotel': {'book': {'booked': [], 'stay': '', 'day': '', 'people': ''}, 'semi': {'name': 'not mentioned', 'area': 'not mentioned', 'parking': 'yes', 'pricerange': 'cheap', 'stars': 'not mentioned', 'internet': 'not mentioned', 'type': 'hotel'}}, 'attraction': {'book': {'booked': []}, 'semi': {'type': '', 'name': '', 'area': ''}}, 'train': {'book': {'booked': [], 'people': ''}, 'semi': {'leaveAt': '', 'destination': '', 'day': '', 'arriveBy': '', 'departure': ''}}}\n",
      "\n",
      "I found 1 cheap hotel for you that includes parking. Do you like me to book it?\n",
      "{}\n"
     ]
    }
   ],
   "source": [
    "print(data[example_sng][\"log\"][2][\"text\"])\n",
    "print(data[example_sng][\"log\"][3][\"metadata\"])  # Note: This is 3 instead of 2\n",
    "print()\n",
    "print(data[example_sng][\"log\"][3][\"text\"])\n",
    "print(data[example_sng][\"log\"][4][\"metadata\"])"
   ]
  },
  {
   "cell_type": "code",
   "execution_count": 16,
   "metadata": {},
   "outputs": [
    {
     "data": {
      "text/plain": [
       "dict_keys(['book', 'semi'])"
      ]
     },
     "execution_count": 16,
     "metadata": {},
     "output_type": "execute_result"
    }
   ],
   "source": [
    "data[example_sng][\"log\"][3][\"metadata\"][\"hotel\"].keys()"
   ]
  },
  {
   "cell_type": "markdown",
   "metadata": {},
   "source": [
    "The meta data gets updated when the user provides new information:"
   ]
  },
  {
   "cell_type": "code",
   "execution_count": 17,
   "metadata": {},
   "outputs": [],
   "source": [
    "from termcolor import colored"
   ]
  },
  {
   "cell_type": "code",
   "execution_count": 18,
   "metadata": {},
   "outputs": [
    {
     "name": "stdout",
     "output_type": "stream",
     "text": [
      "U:  am looking for a place to to stay that has cheap price range it should be in a type of hotel\n",
      "\u001b[31mnew semi: {'pricerange': 'cheap', 'type': 'hotel'}\u001b[0m\n",
      "\u001b[31mnew book: {}\u001b[0m\n",
      "W:  Okay, do you have a specific area you want to stay in?\n",
      "U:  no, i just need to make sure it's cheap. oh, and i need parking\n",
      "\u001b[31mnew semi: {'parking': 'yes'}\u001b[0m\n",
      "\u001b[31mnew book: {}\u001b[0m\n",
      "W:  I found 1 cheap hotel for you that includes parking. Do you like me to book it?\n",
      "U:  Yes, please. 6 people 3 nights starting on tuesday.\n",
      "\u001b[31mnew semi: {}\u001b[0m\n",
      "\u001b[31mnew book: {'stay': '3', 'day': 'tuesday', 'people': '6'}\u001b[0m\n",
      "W:  I am sorry but I wasn't able to book that for you for Tuesday. Is there another day you would like to stay or perhaps a shorter stay?\n",
      "U:  how about only 2 nights.\n",
      "\u001b[31mnew semi: {}\u001b[0m\n",
      "\u001b[31mnew book: {'booked': [{'name': 'the cambridge belfry', 'reference': '7GAWK763'}], 'stay': '2'}\u001b[0m\n",
      "W:  Booking was successful.\n",
      "Reference number is : 7GAWK763. Anything else I can do for you?\n",
      "U:  No, that will be all. Good bye.\n",
      "\u001b[31mnew semi: {}\u001b[0m\n",
      "\u001b[31mnew book: {}\u001b[0m\n",
      "W:  Thank you for using our services.\n"
     ]
    }
   ],
   "source": [
    "log = data[example_sng][\"log\"]\n",
    "semi = {'name': 'not mentioned',\n",
    " 'area': 'not mentioned',\n",
    " 'parking': 'not mentioned',\n",
    " 'pricerange': 'not mentioned',\n",
    " 'stars': 'not mentioned',\n",
    " 'internet': 'not mentioned',\n",
    " 'type': 'not mentioned'}  # Baseline missing information about the hotel\n",
    "book = semi.copy()\n",
    "for step in log:\n",
    "    if len(step[\"metadata\"]) == 0:   # It looks like user-texts don't have metadata\n",
    "        print(\"U:  \" + step[\"text\"])  # User\n",
    "    else:\n",
    "        # Print new information in red\n",
    "        x = semi\n",
    "        y = step['metadata']['hotel']['semi']\n",
    "        changed_items = {k: y[k] for k in x if k in y and x[k] != y[k]}\n",
    "        print(colored(f\"new semi: {changed_items}\", \"red\"))\n",
    "        x = book\n",
    "        y = step['metadata']['hotel']['book']\n",
    "        changed_items = {k: y[k] for k in x if k in y and x[k] != y[k]}\n",
    "        print(colored(f\"new book: {changed_items}\", \"red\"))\n",
    "        semi = step['metadata']['hotel']['semi']\n",
    "        book = step['metadata']['hotel']['book']\n",
    "        \n",
    "        print(\"W:  \" + step[\"text\"])  # Wizzard"
   ]
  },
  {
   "cell_type": "markdown",
   "metadata": {},
   "source": [
    "This would get us the user utterances, but not most of the bot's actions. We could only infer that the bot tried to book when data arrived in the `book` category. \n",
    "But from the `log` data alone, there seems to be no way to infer that the first information gained (`{'pricerange': 'cheap', 'type': 'hotel'}`) triggers something like `action_ask_location`."
   ]
  },
  {
   "cell_type": "markdown",
   "metadata": {},
   "source": [
    "A possible workaround would be to **train an NLU model to predict actions from the Wizzard's utterances**, but I don't know if that is feasable.\n",
    "As a final resort, let's have a look at the `goal` data."
   ]
  },
  {
   "cell_type": "markdown",
   "metadata": {},
   "source": [
    "### `goal` data"
   ]
  },
  {
   "cell_type": "markdown",
   "metadata": {},
   "source": [
    "The 'goal' data contains information about all the domains. Since this is a single domain file (plus booking), most entries are empty:"
   ]
  },
  {
   "cell_type": "code",
   "execution_count": 19,
   "metadata": {},
   "outputs": [
    {
     "name": "stdout",
     "output_type": "stream",
     "text": [
      "{'taxi': {}, 'police': {}, 'hospital': {}, 'hotel': {'info': {'type': 'hotel', 'parking': 'yes', 'pricerange': 'cheap', 'internet': 'yes'}, 'fail_info': {}, 'book': {'pre_invalid': True, 'stay': '2', 'day': 'tuesday', 'invalid': False, 'people': '6'}, 'fail_book': {'stay': '3'}}, 'topic': {'taxi': False, 'police': False, 'restaurant': False, 'hospital': False, 'hotel': False, 'general': False, 'attraction': False, 'train': False, 'booking': False}, 'attraction': {}, 'train': {}, 'message': [\"You are looking for a <span class='emphasis'>place to stay</span>. The hotel should be in the <span class='emphasis'>cheap</span> price range and should be in the type of <span class='emphasis'>hotel</span>\", \"The hotel should <span class='emphasis'>include free parking</span> and should <span class='emphasis'>include free wifi</span>\", \"Once you find the <span class='emphasis'>hotel</span> you want to book it for <span class='emphasis'>6 people</span> and <span class='emphasis'>3 nights</span> starting from <span class='emphasis'>tuesday</span>\", \"If the booking fails how about <span class='emphasis'>2 nights</span>\", \"Make sure you get the <span class='emphasis'>reference number</span>\"], 'restaurant': {}}\n"
     ]
    }
   ],
   "source": [
    "print(data[example_sng][\"goal\"])"
   ]
  },
  {
   "cell_type": "code",
   "execution_count": 20,
   "metadata": {},
   "outputs": [
    {
     "name": "stdout",
     "output_type": "stream",
     "text": [
      "{}\n",
      "{}\n",
      "{}\n",
      "{}\n",
      "{}\n",
      "{}\n"
     ]
    }
   ],
   "source": [
    "print(data[example_sng][\"goal\"][\"taxi\"])\n",
    "print(data[example_sng][\"goal\"][\"police\"])\n",
    "print(data[example_sng][\"goal\"][\"hospital\"])\n",
    "print(data[example_sng][\"goal\"][\"attraction\"])\n",
    "print(data[example_sng][\"goal\"][\"train\"])\n",
    "print(data[example_sng][\"goal\"][\"restaurant\"])"
   ]
  },
  {
   "cell_type": "markdown",
   "metadata": {},
   "source": [
    "The only topic that was actually relevant in this conversation was the `hotel`. \n",
    "Therefore, the `hotel` data contains the final requirements and booking intents, as well as the failed attempts:"
   ]
  },
  {
   "cell_type": "code",
   "execution_count": 21,
   "metadata": {},
   "outputs": [
    {
     "data": {
      "text/plain": [
       "['info', 'fail_info', 'book', 'fail_book']"
      ]
     },
     "execution_count": 21,
     "metadata": {},
     "output_type": "execute_result"
    }
   ],
   "source": [
    "list(data[example_sng][\"goal\"][\"hotel\"])"
   ]
  },
  {
   "cell_type": "code",
   "execution_count": 22,
   "metadata": {},
   "outputs": [
    {
     "data": {
      "text/plain": [
       "{'type': 'hotel', 'parking': 'yes', 'pricerange': 'cheap', 'internet': 'yes'}"
      ]
     },
     "execution_count": 22,
     "metadata": {},
     "output_type": "execute_result"
    }
   ],
   "source": [
    "data[example_sng][\"goal\"][\"hotel\"][\"info\"]"
   ]
  },
  {
   "cell_type": "code",
   "execution_count": 23,
   "metadata": {},
   "outputs": [
    {
     "data": {
      "text/plain": [
       "{'pre_invalid': True,\n",
       " 'stay': '2',\n",
       " 'day': 'tuesday',\n",
       " 'invalid': False,\n",
       " 'people': '6'}"
      ]
     },
     "execution_count": 23,
     "metadata": {},
     "output_type": "execute_result"
    }
   ],
   "source": [
    "data[example_sng][\"goal\"][\"hotel\"][\"book\"]"
   ]
  },
  {
   "cell_type": "code",
   "execution_count": 24,
   "metadata": {},
   "outputs": [
    {
     "data": {
      "text/plain": [
       "{}"
      ]
     },
     "execution_count": 24,
     "metadata": {},
     "output_type": "execute_result"
    }
   ],
   "source": [
    "data[example_sng][\"goal\"][\"hotel\"][\"fail_info\"]"
   ]
  },
  {
   "cell_type": "code",
   "execution_count": 25,
   "metadata": {},
   "outputs": [
    {
     "data": {
      "text/plain": [
       "{'stay': '3'}"
      ]
     },
     "execution_count": 25,
     "metadata": {},
     "output_type": "execute_result"
    }
   ],
   "source": [
    "data[example_sng][\"goal\"][\"hotel\"][\"fail_book\"]"
   ]
  },
  {
   "cell_type": "markdown",
   "metadata": {},
   "source": [
    "The `message` data contains the goal that the user was given before the dialog started.\n",
    "This should not be relevant for us."
   ]
  },
  {
   "cell_type": "code",
   "execution_count": 26,
   "metadata": {},
   "outputs": [
    {
     "name": "stdout",
     "output_type": "stream",
     "text": [
      "> You are looking for a <span class='emphasis'>place to stay</span>. The hotel should be in the <span class='emphasis'>cheap</span> price range and should be in the type of <span class='emphasis'>hotel</span>\n",
      "> The hotel should <span class='emphasis'>include free parking</span> and should <span class='emphasis'>include free wifi</span>\n",
      "> Once you find the <span class='emphasis'>hotel</span> you want to book it for <span class='emphasis'>6 people</span> and <span class='emphasis'>3 nights</span> starting from <span class='emphasis'>tuesday</span>\n",
      "> If the booking fails how about <span class='emphasis'>2 nights</span>\n",
      "> Make sure you get the <span class='emphasis'>reference number</span>\n"
     ]
    }
   ],
   "source": [
    "for msg in data[example_sng][\"goal\"][\"message\"]:\n",
    "    print(\"> \" + msg)"
   ]
  },
  {
   "cell_type": "markdown",
   "metadata": {},
   "source": [
    "What does the \"topic\" data signify? In this example, it is not saying what topics were encountered, but instead it is just `False` for all topics. "
   ]
  },
  {
   "cell_type": "code",
   "execution_count": 27,
   "metadata": {},
   "outputs": [
    {
     "data": {
      "text/plain": [
       "{'taxi': False,\n",
       " 'police': False,\n",
       " 'restaurant': False,\n",
       " 'hospital': False,\n",
       " 'hotel': False,\n",
       " 'general': False,\n",
       " 'attraction': False,\n",
       " 'train': False,\n",
       " 'booking': False}"
      ]
     },
     "execution_count": 27,
     "metadata": {},
     "output_type": "execute_result"
    }
   ],
   "source": [
    "data[example_sng][\"goal\"][\"topic\"]"
   ]
  },
  {
   "cell_type": "markdown",
   "metadata": {},
   "source": [
    "I think it _does_ represent the topics of the conversation (the user has to check boxes at the end of the conversation), but the user probably made a mistake in this example. \n",
    "It could serve as a check if user and wizzard topics concur."
   ]
  },
  {
   "cell_type": "markdown",
   "metadata": {},
   "source": [
    "Unfortunately, the `goal` data also does not contain any hints about the Wizzard's concrete actions."
   ]
  },
  {
   "cell_type": "markdown",
   "metadata": {},
   "source": [
    "### A MUL dialog example"
   ]
  },
  {
   "cell_type": "code",
   "execution_count": 28,
   "metadata": {},
   "outputs": [
    {
     "data": {
      "text/plain": [
       "'PMUL1635.json'"
      ]
     },
     "execution_count": 28,
     "metadata": {},
     "output_type": "execute_result"
    }
   ],
   "source": [
    "example_mul = names[2]\n",
    "example_mul"
   ]
  },
  {
   "cell_type": "markdown",
   "metadata": {},
   "source": [
    "This dataset contains new keys, but these refer to new contexts and do not seem to provide information that would be useful to us:"
   ]
  },
  {
   "cell_type": "code",
   "execution_count": 29,
   "metadata": {},
   "outputs": [],
   "source": [
    "def compare_structure(ds1, ds2, name=\"root\", level=0):\n",
    "    #print(\" \" * level + str(type(ds1)))\n",
    "    print(\" \" * level + name)\n",
    "    if type(ds1) is type(ds2):\n",
    "        if type(ds1) is dict:\n",
    "            if set(ds1) == set(ds2):\n",
    "                return all([compare_structure(ds1[k], ds2[k], k, level+2) for k in ds1.keys()])\n",
    "            else:\n",
    "                mismatch_l = {k for k in ds1 if k not in ds2}\n",
    "                mismatch_r = {k for k in ds2 if k not in ds1}\n",
    "                print(colored(f\"Key mismatch: {mismatch_l} | {mismatch_r}\", \"red\"))\n",
    "                return False\n",
    "        elif type(ds1) is list:\n",
    "            return all([compare_structure(ds1[k], ds2[k], str(k), level+2) for k in range(len(ds1))])\n",
    "        else:\n",
    "            return True\n",
    "    else:\n",
    "        print(colored(f\"Type mismatch\", \"red\"))\n",
    "        return False"
   ]
  },
  {
   "cell_type": "code",
   "execution_count": 30,
   "metadata": {},
   "outputs": [
    {
     "name": "stdout",
     "output_type": "stream",
     "text": [
      "root\n",
      "  goal\n",
      "    taxi\n",
      "    police\n",
      "    hospital\n",
      "    hotel\n",
      "      info\n",
      "\u001b[31mKey mismatch: {'type', 'pricerange'} | {'area', 'stars'}\u001b[0m\n",
      "      fail_info\n",
      "      book\n",
      "\u001b[31mKey mismatch: {'pre_invalid'} | set()\u001b[0m\n",
      "      fail_book\n",
      "\u001b[31mKey mismatch: {'stay'} | set()\u001b[0m\n",
      "    topic\n",
      "      taxi\n",
      "      police\n",
      "      restaurant\n",
      "      hospital\n",
      "      hotel\n",
      "      general\n",
      "      attraction\n",
      "      train\n",
      "      booking\n",
      "    attraction\n",
      "    train\n",
      "\u001b[31mKey mismatch: set() | {'info', 'reqt', 'fail_info'}\u001b[0m\n",
      "    message\n",
      "      0\n",
      "      1\n",
      "      2\n",
      "      3\n",
      "      4\n",
      "    restaurant\n",
      "  log\n",
      "    0\n",
      "      text\n",
      "      metadata\n",
      "    1\n",
      "      text\n",
      "      metadata\n",
      "\u001b[31mKey mismatch: set() | {'bus'}\u001b[0m\n",
      "    2\n",
      "      text\n",
      "      metadata\n",
      "    3\n",
      "      text\n",
      "      metadata\n",
      "\u001b[31mKey mismatch: set() | {'bus'}\u001b[0m\n",
      "    4\n",
      "      text\n",
      "      metadata\n",
      "    5\n",
      "      text\n",
      "      metadata\n",
      "\u001b[31mKey mismatch: set() | {'bus'}\u001b[0m\n",
      "    6\n",
      "      text\n",
      "      metadata\n",
      "    7\n",
      "      text\n",
      "      metadata\n",
      "\u001b[31mKey mismatch: set() | {'bus'}\u001b[0m\n",
      "    8\n",
      "      text\n",
      "      metadata\n",
      "    9\n",
      "      text\n",
      "      metadata\n",
      "\u001b[31mKey mismatch: set() | {'bus'}\u001b[0m\n"
     ]
    },
    {
     "data": {
      "text/plain": [
       "False"
      ]
     },
     "execution_count": 30,
     "metadata": {},
     "output_type": "execute_result"
    }
   ],
   "source": [
    "compare_structure(data[example_sng], data[example_mul])"
   ]
  },
  {
   "cell_type": "markdown",
   "metadata": {},
   "source": [
    "Check if any of the dialoges have metadata about the wizzards.\n",
    "To this end, we find dialogues where more than 50% of the turns are annotated."
   ]
  },
  {
   "cell_type": "code",
   "execution_count": 31,
   "metadata": {},
   "outputs": [],
   "source": [
    "def annotation_ratio(name):\n",
    "    annotated = 0.0\n",
    "    for x in data[name][\"log\"]:\n",
    "        if len(x[\"metadata\"]) > 0:\n",
    "            annotated += 1.0\n",
    "    annotated /= len(data[name][\"log\"])\n",
    "    return annotated"
   ]
  },
  {
   "cell_type": "code",
   "execution_count": 32,
   "metadata": {},
   "outputs": [
    {
     "data": {
      "text/plain": [
       "0.5"
      ]
     },
     "execution_count": 32,
     "metadata": {},
     "output_type": "execute_result"
    }
   ],
   "source": [
    "annotation_ratio(names[0])"
   ]
  },
  {
   "cell_type": "code",
   "execution_count": 33,
   "metadata": {},
   "outputs": [
    {
     "name": "stdout",
     "output_type": "stream",
     "text": [
      "['SNG1213.json', 'PMUL0382.json', 'PMUL0237.json']\n"
     ]
    }
   ],
   "source": [
    "odd_sets = [name for name in names if annotation_ratio(name) > 0.5]\n",
    "print(odd_sets)"
   ]
  },
  {
   "cell_type": "markdown",
   "metadata": {},
   "source": [
    "The first one has more annotations, because the Wizzard kept talking and the user did not reply."
   ]
  },
  {
   "cell_type": "code",
   "execution_count": 34,
   "metadata": {},
   "outputs": [
    {
     "name": "stdout",
     "output_type": "stream",
     "text": [
      "U:  I'm interested in finding an expensive guesthouse to stay at during my visit to Cambridge\n",
      "{}\n",
      "W:  I'm sorry I don't have any matches. Should we try a different price range?\n",
      "U:  Can you search for hotels instead of a guesthouse?\n",
      "{}\n",
      "W:  I have expensive hotels in the east, centre, and south areas of town. Do you have a preference?\n",
      "U:  The east would be great.\n",
      "{}\n",
      "W:  There is one in the east. It is express by holiday inn cambridge. Do you need a booking?\n",
      "U:  Does the Holiday Inn Cambridge have free parking? I forgot to tell you I need that.\n",
      "{}\n",
      "W:  Yes, it has free parking. Would you like me to book that for you?\n",
      "U:  No, what is the phone number for the hotel?\n",
      "{}\n",
      "W:  It is 01223866800.  May I help with anything else?\n",
      "U:  Yes, can you please tell me how many stars it has? \n",
      "{}\n",
      "W:  It is a 2 star hotel. Would you like me to make those reservations?\n",
      "W:  It has 2 stars. Is there anything else I can do for you?\n",
      "W:  Great, thank you and goodbye!\n"
     ]
    }
   ],
   "source": [
    "for step in data[odd_sets[0]][\"log\"]:\n",
    "    if len(step[\"metadata\"]) == 0:   # It looks like user-texts don't have metadata\n",
    "        print(\"U:  \" + step[\"text\"])  # User\n",
    "        print(step[\"metadata\"])\n",
    "    else:\n",
    "        print(\"W:  \" + step[\"text\"])  # Wizzard"
   ]
  },
  {
   "cell_type": "markdown",
   "metadata": {},
   "source": [
    "Same here:"
   ]
  },
  {
   "cell_type": "code",
   "execution_count": 35,
   "metadata": {
    "scrolled": true
   },
   "outputs": [
    {
     "name": "stdout",
     "output_type": "stream",
     "text": [
      "U:  I'm looking for a cheap Italian restaurant. \n",
      "{}\n",
      "W:  How about Pizza Hut City Centre?  I hear it is very good.\n",
      "U:  I s it located in the north?\n",
      "{}\n",
      "W:  No, that one was in the Centre.  But, da vinci pizzeria is in the north\n",
      "U:  Da Vinci Pizzeria is fine can you book a table for one for Monday at 12:00?\n",
      "{}\n",
      "W:  I will book it for you,is there anything else I can do for you ?\n",
      "U:  Yes, what about the reference number?\n",
      "{}\n",
      "W:  My system is down and I am unable to book at the moment.  Here is their # 01223351707 or we can try again later.  Sorry for inconvenience.\n",
      "U:  Wow, really? Could you try again please?\n",
      "{}\n",
      "W:  My apologies, this is actually a system issue and i cannot book.   I have reported in, in the meantime do you need other information?\n",
      "U:  I will try back later for the reference number. Could you find me a place to stay that is near the restaurant?\n",
      "{}\n",
      "W:  There are several in the moderate to cheap range. Do you have a star preference?\n",
      "U:  no stars would work for me. \n",
      "{}\n",
      "W:  I would recommend city centre north b and b. Would you like me to book that?\n",
      "U:  Is that a guesthouse with 0 stars?\n",
      "{}\n",
      "W:  Yes they are a guesthouse with a 0 star rating in the north area.\n",
      "U:  Okay, great. Please book that for me then. It'll be 1 person for 2 nights\n",
      "{}\n",
      "W:  What day will you be arriving?\n",
      "U:  I will be arriving on Monday.\n",
      "{}\n",
      "W:  You are booked into city center north b and b with reference number O1TNBPLU. You are also booked  at da vinci pizzeria, reference number QLKCDA7V.\n",
      "U:  I also need a taxi to get me from the hotel to the restaurant by my reservation time.\n",
      "{}\n",
      "W:  I have booked you with a yellow bmw with the contact number 07383383242. Is there anything else I can help with today?\n",
      ".\n",
      "W:  Booking was successful. Reference number is : T4EHQENA. Anything else.\n",
      "W:  I wish you safe travels. Enjoy your trip. Have a great day.\n"
     ]
    }
   ],
   "source": [
    "for step in data[odd_sets[1]][\"log\"]:\n",
    "    if len(step[\"metadata\"]) == 0:   # It looks like user-texts don't have metadata\n",
    "        print(\"U:  \" + step[\"text\"])  # User\n",
    "        print(step[\"metadata\"])\n",
    "    else:\n",
    "        print(\"W:  \" + step[\"text\"])  # Wizzard"
   ]
  },
  {
   "cell_type": "markdown",
   "metadata": {},
   "source": [
    "Again, the Wizzard replied multiple times."
   ]
  },
  {
   "cell_type": "code",
   "execution_count": 36,
   "metadata": {},
   "outputs": [
    {
     "name": "stdout",
     "output_type": "stream",
     "text": [
      "U:  I am trying to find a Jamaican restaurant\n",
      "{}\n",
      "W:  We don't have any Jamaican restaurants here. Would you like to try something else?\n",
      "U:  How about a expensive mediterranean?\n",
      "{}\n",
      "W:  There are two restaurants, La Mimosa or Shiraz\n",
      "U:  let's book a table at Shiraz.\n",
      "{}\n",
      "W:  Can I get what day,time and how many people will be dining?\n",
      "U:  Monday at noon and five.\n",
      "{}\n",
      "W:  Your booking was successful. The table will be reserved for 15 minutes. Reference number is:  QJI9U6C7. Is there anything else I can assist you with today?\n",
      "U:  Also looking for a place to stay. The hotel should include free parking and should include free wifi.\n",
      "{}\n",
      "W:  I recommend acorn guest house on 154 chesterton road would you like me to book?\n",
      "U:  Can I get the address, postcode and price range of that hotel?\n",
      "{}\n",
      "W:  It is a moderate priced guesthouse. The address is 154 chesterton road and postcode is cb41da. Can I book you any rooms?\n",
      "U:  Sure, that would be great. one person for 2 nights please.\n",
      "{}\n",
      "W:  What day will you be arriving?\n",
      "U:  The same day, I'd also like a taxi to go between the hotel and restaurant.\n",
      "{}\n",
      "W:  I need to know the time you want to leave.\n",
      "U:  Wednesday, I need to arrive to the restaurant by my booked time.\n",
      "{}\n",
      "W:  I think we've almost mixed up your bookings! To clarify, you'd like a hotel reservation starting on Wednesday? Your restaurant booking is set for Monday. We can make changes!\n",
      "U:  What was I thinking! I wanted to book a table for 1 person, myself, at 12:30 on Wednesday. Please change my booking at Shiraz.\n",
      "{}\n",
      "W:  So you would like to cancel the other booking?\n",
      "U:  I need to change it to Wednesday at 12:30 for 1 person. The others can't make it. Sorry.\n",
      "{}\n",
      "W:  No worries. Your table for 1 is reserved and your reservation code is GKDDPL1M. The table will be held for 15 minutes. Will that be all today?\n",
      "U:  No, please find me a zero star hotel that offers free wifi and free parking\n",
      "{}\n",
      "W:  Sorry I don't have any 0 star hotels with that criteria.\n",
      "U:  Any stars would be fine.\n",
      "{}\n",
      "W:  I'm so sorry but i'm confused. What would you like me to search for your place to stay?\n",
      "U:  I am looking for a hotel with a zero star rating with both free wifi and parking, please.\n",
      "{}\n",
      "W:  There are two cheap guesthouses meeting your needs: el shaddai in the centre and city centre north b and b in the north. Which do you prefer?\n",
      "W:  i highly recommend el shaddai. it is cheap. can i book?\n",
      "W:  El Shaddai is a cheap, 0 star guesthouse in the centre. Will that work for you?\n",
      "U:  Yes, can I get the postcode and address please.\n",
      "{}\n",
      "W:  Can you book it for me and get a reference number ?\n"
     ]
    }
   ],
   "source": [
    "for step in data[odd_sets[2]][\"log\"]:\n",
    "    if len(step[\"metadata\"]) == 0:   # It looks like user-texts don't have metadata\n",
    "        print(\"U:  \" + step[\"text\"])  # User\n",
    "        print(step[\"metadata\"])\n",
    "    else:\n",
    "        print(\"W:  \" + step[\"text\"])  # Wizzard"
   ]
  },
  {
   "cell_type": "markdown",
   "metadata": {},
   "source": [
    "## Further samples"
   ]
  },
  {
   "cell_type": "code",
   "execution_count": 37,
   "metadata": {},
   "outputs": [],
   "source": [
    "def print_dialog(n):\n",
    "    dialog = data[names[n]]\n",
    "    log = dialog[\"log\"]\n",
    "    print(f\"Length: {len(log)}\")\n",
    "    \n",
    "    for step in log:\n",
    "        if len(step[\"metadata\"]) == 0:   # It looks like user-texts don't have metadata\n",
    "            print(\"U:  \" + step[\"text\"])  # User\n",
    "        else:\n",
    "            print(\"W:  \" + step[\"text\"])  # Wizzard"
   ]
  },
  {
   "cell_type": "code",
   "execution_count": 38,
   "metadata": {
    "scrolled": true
   },
   "outputs": [
    {
     "name": "stdout",
     "output_type": "stream",
     "text": [
      "Length: 10\n",
      "U:  Hello, I have been robbed.  Can you please help me get in touch with the police?\n",
      "W:  Parkside Police Station is in Parkside, Cambridge. Their number is 01223358966. Anything else I can do for you?\n",
      "U:  Can I please have the postcode as well?\n",
      "W:  The postcode for the Parkside Police Station is CB11JG. Can I help you with anything else?\n",
      "U:  Was Parkside the address of the police station? If not, can I have the address please?\n",
      "W:  Yes, Parkside is the address.\n",
      "U:  Thank you that will be all for now.\n",
      "W:  Great. Thank you for contacting Cambridge Towninfo Centre.\n",
      "U:  You were great. Goodbye.\n",
      "W:  We are happy to help. Have a good day!\n"
     ]
    }
   ],
   "source": [
    "print_dialog(1)"
   ]
  },
  {
   "cell_type": "markdown",
   "metadata": {},
   "source": [
    "Here the user asks for information that was clearly if the information given is correct. Otherwise the dialog seems fine."
   ]
  },
  {
   "cell_type": "code",
   "execution_count": 39,
   "metadata": {},
   "outputs": [
    {
     "name": "stdout",
     "output_type": "stream",
     "text": [
      "Length: 18\n",
      "U:  I need to book a hotel in the east that has 4 stars.  \n",
      "W:  I can help you with that. What is your price range?\n",
      "U:  That doesn't matter as long as it has free wifi and parking.\n",
      "W:  If you'd like something cheap, I recommend the Allenbell. For something moderately priced, I would recommend the Warkworth House.\n",
      "U:  Could you book the Wartworth for one night, 1 person?\n",
      "W:  What day will you be staying?\n",
      "U:  Friday and Can you book it for me and get a reference number ?\n",
      "W:  Booking was successful.\n",
      "Reference number is : BMUKPTG6.  Can I help you with anything else today?\n",
      "U:  I am looking to book a train that is leaving from Cambridge to Bishops Stortford on Friday. \n",
      "W:  There are a number of trains leaving throughout the day.  What time would you like to travel?\n",
      "U:  I want to get there by 19:45 at the latest. \n",
      "W:  Okay! The latest train you can take leaves at 17:29, and arrives by 18:07. Would you like for me to book that for you?\n",
      "U:  Yes please. I also need the travel time, departure time, and price.\n",
      "W:  Reference number is : UIFV8FAS. The price is 10.1 GBP and the trip will take about 38 minutes. May I be of any other assistance?\n",
      "U:  Yes. Sorry, but suddenly my plans changed. Can you change the Wartworth booking to Monday for 3 people and 4 nights?\n",
      "W:  I have made that change and your reference number is YF86GE4J\n",
      "U:  Thank you very much, goodbye.\n",
      "W:  You're welcome. Have a nice day!\n"
     ]
    }
   ],
   "source": [
    "print_dialog(2)"
   ]
  },
  {
   "cell_type": "markdown",
   "metadata": {},
   "source": [
    "Dialog looks fine. Here the Wizzard provides multiple options at once for the hotels, and a train is booked, too. "
   ]
  },
  {
   "cell_type": "code",
   "execution_count": 40,
   "metadata": {},
   "outputs": [
    {
     "name": "stdout",
     "output_type": "stream",
     "text": [
      "Length: 8\n",
      "U:  I am looking for a train departing from london liverpool please.\n",
      "W:  I'll be glad to help. You would like to from london liverpool street to what destination, please?\n",
      "U:  Cambridge. I'd like to leave after 10:00 on Friday.\n",
      "W:  I have seven trains, could you tell me when you would like to arrive by ?\n",
      "U:  Just any time after 10:00, can I get the train ID of one of them please?\n",
      "W:  TR7943 leaves at 11:39\n",
      "U:  Thank you very much! That is all I need for today.\n",
      "W:  Have a great day!\n"
     ]
    }
   ],
   "source": [
    "print_dialog(42)"
   ]
  },
  {
   "cell_type": "markdown",
   "metadata": {},
   "source": [
    "Looks fine."
   ]
  },
  {
   "cell_type": "code",
   "execution_count": 41,
   "metadata": {},
   "outputs": [
    {
     "name": "stdout",
     "output_type": "stream",
     "text": [
      "Length: 12\n",
      "U:  I am looking to travel to Cambridge by train. \n",
      "W:  What is your departure day, time, and location?\n",
      "U:  I'll be leaving from london liverpool street on Tuesday. I need to arrive by 12:30.\n",
      "W:  There is a train that leaves at 07:39 and arrives at 09:07. Should I book this one?\n",
      "U:  No, I just need the price and Train ID for the 9:07 train.\n",
      "W:  Sure, the trainID is TR2715 and the price is 16.60 GBP per ticket. Can I help with anything else today?\n",
      "U:  Actually yes, I also want to find out what kind of boating attractions there are.\n",
      "W:  I see Camboats, Riverboat Georgina, Scudamores Punting Co., and The Cambridge Punter listed. \n",
      "U:  I'd like the address for the Riverboat Georgina, please.\n",
      "W:  Certainly, riverboat georgina, cambridge passenger cruisers, jubilee house. Is there anything else I can do for you?\n",
      "U:  I think that's everything, thank you for your time.\n",
      "W:  Thank you, enjoy your visit!\n"
     ]
    }
   ],
   "source": [
    "print_dialog(-1)"
   ]
  },
  {
   "cell_type": "markdown",
   "metadata": {},
   "source": [
    "Looks good."
   ]
  },
  {
   "cell_type": "code",
   "execution_count": 42,
   "metadata": {},
   "outputs": [
    {
     "name": "stdout",
     "output_type": "stream",
     "text": [
      "Length: 14\n",
      "U:  I am looking for a cheap modern European restaurant. Can you help me?\n",
      "W:  The River Bar Steakhouse and Grill fits that description. Would you like me to book you? \n",
      "U:  Yes. 3 people at 13:00 on Thursday. \n",
      "W:  I will book that for you now.\n",
      "U:  Thank you! What's the reference number?\n",
      "W:  I have booked your table and the reference number is : A36LRSL9.\n",
      "U:  I am also looking for places to go where I can take a boat.\n",
      "W:  Yes I have places in the east, north and center. Any preference?\n",
      "U:  Preferably in the centre, I'll be staying in that area with some friends. \n",
      "W:  There is a place in the centre named Scudamores punting co where you can get a boat.  Would you like their phone number or address?\n",
      "U:  Yes, may I get the address, entrance fee and phone number please?\n",
      "W:  Yes, they are located at Granta Place, Mill Lane, postcode cb21rs.  You will have to call for an entrance fee, the phone number is 01223359750.  \n",
      "U:  Thanks, that's all I needed today. Goodbye!\n",
      "W:  You're welcome. Call back if you need further assistance. \n"
     ]
    }
   ],
   "source": [
    "print_dialog(-2)"
   ]
  },
  {
   "cell_type": "markdown",
   "metadata": {},
   "source": [
    "Looks good."
   ]
  },
  {
   "cell_type": "code",
   "execution_count": 43,
   "metadata": {},
   "outputs": [
    {
     "name": "stdout",
     "output_type": "stream",
     "text": [
      "Length: 22\n",
      "U:  I need a hotel close to downtown Cambridge please.\n",
      "W:  I assume you mean the center of town? We have many hotels in Cambridge covering all price ranges.\n",
      "U:  I'm sorry, I wasn't thinking clearly. I'm looking for a place in the West. I need free wifi as well, please.\n",
      "W:  There are four places to stay in the west that provide internet. What price range would you prefer?\n",
      "U:  I don't care about the price range, but do you have one that is a guesthouse?\n",
      "W:  Yes, there are two when will you need the room?\n",
      "U:  Does one of those two have free parking? If so, I'll book it for 4 people for 5 nights starting Friday.\n",
      "W:  They both have free parking and internet.  Would you prefer cheap or moderate priced?\n",
      "U:  I don't mind cheap as long as it's still reasonably nice.\n",
      "W:  I recommend Finches Bed & Breakfast. It's cheap, but still 4 stars. Would you like a reservation?\n",
      "U:  I need to book 4 people for 5 nights starting friday please\n",
      "W:  I'm sorry, but I wasn't able to book for 5 nights.  Would you be able to stay a different day, or for a shorter stay?\n",
      "U:  Can you try just one night?\n",
      "W:  Your booking was successful with a reference number EGRKXU88. Do you need anything else?\n",
      "U:  Yes, I'm also looking for a museum in the centre of town.  \n",
      "W:  How about the Broughton House Gallery?\n",
      "U:  Okay can you provide me with their address, phone number and postcode please?\n",
      "W:  Sure.  The phone number is 01223314960 and it's located at 98 King Street at CB11LN.\n",
      "U:  Thank you so much for all your help! \n",
      "W:  You are very welcome. Can I help you with anything else?\n",
      "U:  No, that is all the help I will need today.\n",
      "W:  It was a pleasure assisting you. Have a good evening. \n"
     ]
    }
   ],
   "source": [
    "print_dialog(100)"
   ]
  },
  {
   "cell_type": "markdown",
   "metadata": {},
   "source": [
    "Looks good."
   ]
  },
  {
   "cell_type": "code",
   "execution_count": 44,
   "metadata": {},
   "outputs": [
    {
     "name": "stdout",
     "output_type": "stream",
     "text": [
      "Length: 10\n",
      "U:  I'd like to find a train that leaves Monday and arrives by 19:00.\n",
      "W:  Very well. Where are you traveling from, and to where?\n",
      "U:  I am departing from birmingham new street, going to cambridge.\n",
      "W:  I have a train that departs at 15:40 and arrives in Cambridge at 18:23. Will that do?\n",
      "U:  That would work just fine. Could you tell me the price and travel time for that train? \n",
      "W:  The TR5385 has a travel time of 163 minutes. Would you like me to book you some tickets?\n",
      "U:  No, I don't want to book today.  Could you just give me the price for that train?  I think that is all I need today.\n",
      "W:  Sure.  The price of those tickets are 75.10 pounds each.\n",
      "U:  Great! That's all I need. Thank you for your help.\n",
      "W:  Thank you for using Cambridge TownInfo Centre. Have a wonderful day!\n"
     ]
    }
   ],
   "source": [
    "print_dialog(101)"
   ]
  },
  {
   "cell_type": "markdown",
   "metadata": {},
   "source": [
    "Looks good."
   ]
  },
  {
   "cell_type": "code",
   "execution_count": 45,
   "metadata": {
    "scrolled": true
   },
   "outputs": [
    {
     "name": "stdout",
     "output_type": "stream",
     "text": [
      "Length: 26\n",
      "U:  I want to know if any trains run on Sunday?\n",
      "W:  Yes, I have 404 trains running on Sunday. Where are you departing from?\n",
      "U:  I'll be heading to Cambridge from Stevenage, and I'd like to arrive on Sunday by 12:45, please.\n",
      "W:  How about train TR8799, which departs on Sunday at 11:00 and arrives by 11:51?\n",
      "U:  That sounds good, how much is a ticket?\n",
      "W:  The price is 18.88 pounds. Would you like me to book it?\n",
      "U:  Yes please go ahead and book that for me. I am also looking for a place to stay and can you find me a Guest house with free wifi?\n",
      "W:  I'm unsure if the wifi at Alexander Bed and Breakfast is free but it is cheap and in the center of town and definitely does have internet access. Would that do?\n",
      "U:  Actually, I would prefer a guesthouse is the north.\n",
      "W:  Okay I have many options. Any price preferences?\n",
      "U:  no, i just need to know the price\n",
      "W:  I would recommend Archway House, it is moderately priced and 4 stars. Would you like a reservation?\n",
      "U:  Okay.  I would like to book the Archway House for three nights and for one person starting on Sunday and what is the price.\n",
      "W:  Perfect, the Archway House is booked for one person. The reference number is XXA3VM1F. The price is not listed online, the phone number is 01223575314. \n",
      "U:  Is there an email I can contact them at?\n",
      "W:  we do not have email contact information on the venues. but you can call them if you like. their phone number is 01223575314. \n",
      "U:  That would be all thanks you very much\n",
      "W:  OK, thank you for choosing to visit cambridge, enjoy your stay.\n",
      "U:  Actually, I'm sorry. Would you be able to confirm that the hotel you've booked has wifi? I don't have that in my notes.\n",
      "W:  The Archway House has wifi. Also, I see that the train was not booked. I can book the TR8225 leaving stevanage at 11:54 and arriving in Cambridge at 12:43. OK?\n",
      "U:  I don't actually need the train booked yet, I just needed to know the price. I think I have everything I need now, thanks for your help!\n",
      "W:  The price is 10.24 pounds per ticket. \n",
      "U:  Thank you for looking that up for me. \n",
      "W:  You are welcome. Are you sure that all your questions have now been answered? I can wait.\n",
      "U:  Yes that is everything thank you for all your help. Goodbye\n",
      "W:  You are welcome! Have a great trip to cambridge!\n"
     ]
    }
   ],
   "source": [
    "print_dialog(202)"
   ]
  },
  {
   "cell_type": "markdown",
   "metadata": {},
   "source": [
    "Looks good, but this might be difficult: \"I don't actually need the train booked yet\"."
   ]
  },
  {
   "cell_type": "markdown",
   "metadata": {},
   "source": [
    "## Other files\n",
    "\n",
    "There are other files in the data set, besides data.json."
   ]
  },
  {
   "cell_type": "code",
   "execution_count": 46,
   "metadata": {
    "scrolled": true
   },
   "outputs": [
    {
     "name": "stdout",
     "output_type": "stream",
     "text": [
      "#####################################################\n",
      "#####################################################\n",
      "#  Copyright Cambridge Dialogue Systems Group, 2018 #\n",
      "#####################################################\n",
      "#####################################################\n",
      "\n",
      "Dataset contains the following json files:\n",
      "1. data.json: the woz dialogue dataset, which contains the conversation  users and wizards, as well as a set of coarse labels for each user turn. Files with multi-domain dialogues have \"MUL\" in their names. Single domain dialogues have either \"SNG\" or \"WOZ\" in their names.\n",
      "2. restaurant_db.json: the Cambridge restaurant database file, containing restaurants in the Cambridge UK area and a set of attributes.\n",
      "3. attraction_db.json: the Cambridge attraction database file, contining attractions in the Cambridge UK area and a set of attributes.\n",
      "4. hotel_db.json: the Cambridge hotel database file, containing hotels in the Cambridge UK area and a set of attributes.\n",
      "5. train_db.json: the Cambridge train (with artificial connections) database file, containing trains in the Cambridge UK area and a set of attributes.\n",
      "6. hospital_db.json: the Cambridge hospital database file, contatining information about departments.\n",
      "7. police_db.json: the Cambridge police station information.\n",
      "8. taxi_db.json: slot-value list for taxi domain.\n",
      "9. valListFile.json: list of dialogues for validation.\n",
      "10. testListFile.json: list of dialogues for testing.\n",
      "11. system_acts.json:\n",
      "  There are 6 domains ('Booking', 'Restaurant', 'Hotel', 'Attraction', 'Taxi', 'Train') and 1 dummy domain ('general').\n",
      "  A domain-dependent dialogue act is defined as a domain token followed by a domain-independent dialogue act, e.g. 'Hotel-inform' means it is a 'inform' act in Hotel domain.\n",
      "  Dialogue acts which cannot take slots, e.g., 'good bye', are defined under 'general' domain.\n",
      "  A slot-value pair defined as a list with two elements. The first element is slot token and the second one is its value.\n",
      "  If a dialogue act takes no slots, e.g., dialogue act 'offer booking' for an utterance 'would you like to take a reservation?', its slot-value pair is ['none', 'none']\n",
      "  There are four types of value:\n",
      "  1) If a slot takes binary value, e.g., 'has Internet' or 'has park', the value is either 'yes' or 'no'.\n",
      "  2) If a slot is under the act 'request', e.g., 'request' about 'area', the value is express as '?'.\n",
      "  3) The value that appears in the utterancem e,g., the name of a restaurant.\n",
      "  4) If for some reasons the turn does not have annotation then it is labeled as \"No Annotation\".\n",
      "12. ontology.json: Data-based ontology.\n",
      "\n"
     ]
    }
   ],
   "source": [
    "with open(os.path.join(\".\", \"data\", \"MultiWOZ-2\", \"MULTIWOZ2 2\", \"README.json\")) as f:\n",
    "    print(f.read())"
   ]
  },
  {
   "cell_type": "markdown",
   "metadata": {},
   "source": [
    "Aha! The \"system_acts.json\" file seems interesting, but it was apparently renamed to \"dialogue_acts.json\"."
   ]
  },
  {
   "cell_type": "code",
   "execution_count": 47,
   "metadata": {},
   "outputs": [
    {
     "data": {
      "text/plain": [
       "10438"
      ]
     },
     "execution_count": 47,
     "metadata": {},
     "output_type": "execute_result"
    }
   ],
   "source": [
    "acts_file_name = os.path.abspath(os.path.join(\".\", \"data\", \"MultiWOZ-2\", \"MULTIWOZ2 2\", \"dialogue_acts.json\"))\n",
    "\n",
    "with open(acts_file_name, \"r\") as read_file:\n",
    "    acts = json.load(read_file)\n",
    "\n",
    "len(acts)"
   ]
  },
  {
   "cell_type": "code",
   "execution_count": 48,
   "metadata": {},
   "outputs": [
    {
     "data": {
      "text/plain": [
       "{'1': {'Hotel-Request': [['Price', '?']]},\n",
       " '6': {'Train-Inform': [['Leave', '17:29'], ['Arrive', '18:07']],\n",
       "  'Train-OfferBook': [['none', 'none']]},\n",
       " '9': {'general-bye': [['none', 'none']],\n",
       "  'general-welcome': [['none', 'none']]},\n",
       " '5': {'Train-Inform': [['Choice', 'a number'],\n",
       "   ['Leave', 'throughout the day']],\n",
       "  'Train-Request': [['Leave', '?']]},\n",
       " '4': {'general-reqmore': [['none', 'none']],\n",
       "  'Booking-Book': [['Ref', 'BMUKPTG6']]},\n",
       " '7': {'general-reqmore': [['none', 'none']],\n",
       "  'Train-OfferBooked': [['Time', '38 minutes'],\n",
       "   ['Ref', 'UIFV8FAS'],\n",
       "   ['Ticket', '10.1 GBP']]},\n",
       " '2': {'Hotel-Recommend': [['Price', 'cheap'],\n",
       "   ['Price', ' moderately priced'],\n",
       "   ['Name', 'Allenbell'],\n",
       "   ['Name', ' Warkworth House']]},\n",
       " '8': {'Booking-Book': [['Ref', 'YF86GE4J']]},\n",
       " '3': {'Booking-Request': [['Day', '?']]}}"
      ]
     },
     "execution_count": 48,
     "metadata": {},
     "output_type": "execute_result"
    }
   ],
   "source": [
    "acts[names[2][:-5]]"
   ]
  },
  {
   "cell_type": "code",
   "execution_count": 49,
   "metadata": {},
   "outputs": [],
   "source": [
    "def print_dialog_acts(n):\n",
    "    name = names[n]\n",
    "    dialog = data[names[n]]\n",
    "    log = dialog[\"log\"]\n",
    "    print(f\"Dialog {name[:-5]}, length: {len(log)}\")\n",
    "    \n",
    "    i = 0\n",
    "    for step in log:\n",
    "        if len(step[\"metadata\"]) == 0:   # It looks like user-texts don't have metadata\n",
    "            print(\"U:  \" + step[\"text\"])  # User\n",
    "        else:\n",
    "            print(\"W:  \" + step[\"text\"])  # Wizzard\n",
    "            print(colored(str(acts[name[:-5]][str(i+1)]), \"red\"))\n",
    "            i += 1"
   ]
  },
  {
   "cell_type": "code",
   "execution_count": 50,
   "metadata": {},
   "outputs": [
    {
     "name": "stdout",
     "output_type": "stream",
     "text": [
      "Dialog SNG01856, length: 10\n",
      "U:  am looking for a place to to stay that has cheap price range it should be in a type of hotel\n",
      "W:  Okay, do you have a specific area you want to stay in?\n",
      "\u001b[31m{'Hotel-Request': [['Area', '?']]}\u001b[0m\n",
      "U:  no, i just need to make sure it's cheap. oh, and i need parking\n",
      "W:  I found 1 cheap hotel for you that includes parking. Do you like me to book it?\n",
      "\u001b[31m{'Booking-Inform': [['none', 'none']], 'Hotel-Inform': [['Price', 'cheap'], ['Choice', '1'], ['Parking', 'none']]}\u001b[0m\n",
      "U:  Yes, please. 6 people 3 nights starting on tuesday.\n",
      "W:  I am sorry but I wasn't able to book that for you for Tuesday. Is there another day you would like to stay or perhaps a shorter stay?\n",
      "\u001b[31m{'Booking-NoBook': [['Day', 'Tuesday']], 'Booking-Request': [['Stay', '?'], ['Day', '?']]}\u001b[0m\n",
      "U:  how about only 2 nights.\n",
      "W:  Booking was successful.\n",
      "Reference number is : 7GAWK763. Anything else I can do for you?\n",
      "\u001b[31m{'general-reqmore': [['none', 'none']], 'Booking-Book': [['Ref', '7GAWK763']]}\u001b[0m\n",
      "U:  No, that will be all. Good bye.\n",
      "W:  Thank you for using our services.\n",
      "\u001b[31m{'general-bye': [['none', 'none']]}\u001b[0m\n"
     ]
    }
   ],
   "source": [
    "print_dialog_acts(0)"
   ]
  },
  {
   "cell_type": "code",
   "execution_count": 51,
   "metadata": {},
   "outputs": [
    {
     "name": "stdout",
     "output_type": "stream",
     "text": [
      "Dialog PMUL1229, length: 16\n",
      "U:  I need a train going to cambridge. \n",
      "W:  Absolutely! What day and time would you like to leave?\n",
      "\u001b[31m{'Train-Request': [['Leave', '?'], ['Day', '?']]}\u001b[0m\n",
      "U:  On Thursday any time after 21:00.\n",
      "W:  Where will you be departing from? \n",
      "\u001b[31m{'Train-Request': [['Depart', '?']]}\u001b[0m\n",
      "U:  I will departing from birmingham new street.\n",
      "W:  I would recommend TR7324 which leaves Birmingham New Street at 21:40 and arrives at Cambridge at 24:23. \n",
      "\u001b[31m{'Train-Inform': [['Id', 'TR7324 '], ['Dest', 'Cambridge '], ['Arrive', '24:23'], ['Leave', '21:40'], ['Depart', 'Birmingham New Street']]}\u001b[0m\n",
      "U:  Yes can you book that for 1 person?\n",
      "W:  Your booking for one ticket is complete. Your reference number is VEG5Q87Q and 75.09GBP will be due at the station.\n",
      "\u001b[31m{'Train-OfferBooked': [['Ref', 'VEG5Q87Q '], ['Ticket', '75.09GBP '], ['People', 'one ']]}\u001b[0m\n",
      "U:  I am also looking for a attraction called old schools. \n",
      "W:  Yes, Old Schools is located in the centre area, and has no entrance fee. Anything else I can assist you with?\n",
      "\u001b[31m{'general-reqmore': [['none', 'none']], 'Attraction-Inform': [['Fee', 'no entrance fee'], ['Area', 'centre'], ['Name', 'Old Schools']]}\u001b[0m\n",
      "U:  Yes.  What is the phone number?\n",
      "W:  Their phone number is 01223332320. Do you need anything else?\n",
      "\u001b[31m{'general-reqmore': [['none', 'none']], 'Attraction-Inform': [['Phone', '01223332320']]}\u001b[0m\n",
      "U:  Yes, what is their entrance fee and attraction type?  Thanks!\n",
      "W:  It is free to enter and type is architecture. May I help you with anything else?\n",
      "\u001b[31m{'general-reqmore': [['none', 'none']], 'Attraction-Inform': [['Fee', 'free '], ['Type', 'architecture']]}\u001b[0m\n",
      "U:  No, you have been very helpful today, thank you.  I am all set.  Goodbye.\n",
      "W:  Thank you for using our service!\n",
      "\u001b[31m{'general-bye': [['none', 'none']]}\u001b[0m\n"
     ]
    }
   ],
   "source": [
    "print_dialog_acts(123)"
   ]
  },
  {
   "cell_type": "markdown",
   "metadata": {},
   "source": [
    "So **the Wizzard's actions are actually provided in this separate file!**\n",
    "Lets see what actions the Wizzard's can take over all."
   ]
  },
  {
   "cell_type": "code",
   "execution_count": 52,
   "metadata": {
    "scrolled": false
   },
   "outputs": [
    {
     "name": "stdout",
     "output_type": "stream",
     "text": [
      " \n",
      "A\n",
      "Attraction-Inform\n",
      "Attraction-NoOffer\n",
      "Attraction-Recommend\n",
      "Attraction-Request\n",
      "Attraction-Select\n",
      "Booking-Book\n",
      "Booking-Inform\n",
      "Booking-NoBook\n",
      "Booking-Request\n",
      "Hotel-Inform\n",
      "Hotel-NoOffer\n",
      "Hotel-Recommend\n",
      "Hotel-Request\n",
      "Hotel-Select\n",
      "N\n",
      "Restaurant-Inform\n",
      "Restaurant-NoOffer\n",
      "Restaurant-Recommend\n",
      "Restaurant-Request\n",
      "Restaurant-Select\n",
      "Taxi-Inform\n",
      "Taxi-Request\n",
      "Train-Inform\n",
      "Train-NoOffer\n",
      "Train-OfferBook\n",
      "Train-OfferBooked\n",
      "Train-Request\n",
      "Train-Select\n",
      "a\n",
      "general-bye\n",
      "general-greet\n",
      "general-reqmore\n",
      "general-welcome\n",
      "i\n",
      "n\n",
      "o\n",
      "t\n"
     ]
    }
   ],
   "source": [
    "actions = set()\n",
    "\n",
    "for name in names:\n",
    "    act = acts[name[:-5]]\n",
    "    for a in act.values():\n",
    "        actions.update(set(list(a)))\n",
    "actions = list(actions)\n",
    "actions.sort()\n",
    "for a in actions:\n",
    "    print(a)"
   ]
  },
  {
   "cell_type": "markdown",
   "metadata": {},
   "source": [
    "Another helpful piece of information is that, according to the paper, \"the **validation and test sets only contain fully successful dialogues**\", and these sets are defined in the `testListFile.json` and `valListFile.json` files."
   ]
  },
  {
   "cell_type": "markdown",
   "metadata": {},
   "source": [
    "## Conclusions"
   ]
  },
  {
   "cell_type": "markdown",
   "metadata": {},
   "source": [
    "Our goal is to convert the MultiWOZ-2 data set into a Rasa Story. \n",
    "The roles of user and wizzard in the MultiWOZ setup correspond to the user and the bot.\n",
    "\n",
    "The MultiWOZ data set `data.json` is annotated well enough to infer the abstract user utterances (like `inform{\"location\": \"rome\", \"price\": \"cheap\"}`), and the wizzard's actions are labeled in the `dialogue_actions.json` file.\n",
    "This should enable us to write a parser, at least for the \"successful dialogues\" on the training and validation lists, but dialog quality seems generally ok."
   ]
  },
  {
   "cell_type": "markdown",
   "metadata": {},
   "source": [
    "\n",
    "# ToDo: Exploration of the MultiWOZ-1 data set"
   ]
  },
  {
   "cell_type": "code",
   "execution_count": null,
   "metadata": {},
   "outputs": [],
   "source": []
  }
 ],
 "metadata": {
  "kernelspec": {
   "display_name": "Python 3",
   "language": "python",
   "name": "python3"
  },
  "language_info": {
   "codemirror_mode": {
    "name": "ipython",
    "version": 3
   },
   "file_extension": ".py",
   "mimetype": "text/x-python",
   "name": "python",
   "nbconvert_exporter": "python",
   "pygments_lexer": "ipython3",
   "version": "3.7.3"
  }
 },
 "nbformat": 4,
 "nbformat_minor": 2
}
